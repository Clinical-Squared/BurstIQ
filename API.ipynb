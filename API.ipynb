{
  "nbformat": 4,
  "nbformat_minor": 0,
  "metadata": {
    "colab": {
      "provenance": [],
      "authorship_tag": "ABX9TyPZcbf8jGFC8/oAbMoLQdpB",
      "include_colab_link": true
    },
    "kernelspec": {
      "name": "python3",
      "display_name": "Python 3"
    },
    "language_info": {
      "name": "python"
    }
  },
  "cells": [
    {
      "cell_type": "markdown",
      "metadata": {
        "id": "view-in-github",
        "colab_type": "text"
      },
      "source": [
        "<a href=\"https://colab.research.google.com/github/MWaser/BurstIQ/blob/main/API.ipynb\" target=\"_parent\"><img src=\"https://colab.research.google.com/assets/colab-badge.svg\" alt=\"Open In Colab\"/></a>"
      ]
    },
    {
      "cell_type": "markdown",
      "source": [
        "## This notebook is for the purposes of\n",
        "### 1.   Familiarizing the reader with BurstIQ's admin tool cliq2\n",
        "### 2.   Allowing the developer to create a new interactive API for all BurstIQ operations from the cliq2 source code\n",
        "\n"
      ],
      "metadata": {
        "id": "pza3gQoPKSkv"
      }
    },
    {
      "cell_type": "markdown",
      "source": [
        "# 1. Upgrade Python Version if necessary"
      ],
      "metadata": {
        "id": "oN-wtkql7G8r"
      }
    },
    {
      "cell_type": "markdown",
      "source": [
        "The BurstIQ API requires Python 3.11 or greater.  Check the version to see if upgrading is necessary (very likely)."
      ],
      "metadata": {
        "id": "wl7agr_x3tKC"
      }
    },
    {
      "cell_type": "code",
      "execution_count": 1,
      "metadata": {
        "colab": {
          "base_uri": "https://localhost:8080/"
        },
        "id": "j-qCNcwc3gXw",
        "outputId": "19e00eb1-2f6f-402c-a9d9-afbf96ed54e1"
      },
      "outputs": [
        {
          "output_type": "stream",
          "name": "stdout",
          "text": [
            "Python 3.10.12\n"
          ]
        }
      ],
      "source": [
        "!python --version"
      ]
    },
    {
      "cell_type": "markdown",
      "source": [
        "If upgrading is necessary, run the next box. <br />\n",
        "Don't worry about any warnings recommending a virtual machine -- a notebook is already a virtual machine."
      ],
      "metadata": {
        "id": "q4j25rUa4FAn"
      }
    },
    {
      "cell_type": "code",
      "source": [
        "!sudo apt-get update -y\n",
        "!sudo apt-get install python3.11\n",
        "\n",
        "!sudo update-alternatives --install /usr/bin/python3 python3 /usr/bin/python3.7 1\n",
        "!sudo update-alternatives --install /usr/bin/python3 python3 /usr/bin/python3.11 2\n",
        "\n",
        "!python --version\n",
        "\n",
        "!sudo apt-get install python3-pip"
      ],
      "metadata": {
        "colab": {
          "base_uri": "https://localhost:8080/"
        },
        "id": "1NqP8gSJ4R1o",
        "outputId": "90c13e28-5ada-4a9b-ef83-1d9a81803977"
      },
      "execution_count": 2,
      "outputs": [
        {
          "output_type": "stream",
          "name": "stdout",
          "text": [
            "Hit:1 http://archive.ubuntu.com/ubuntu jammy InRelease\n",
            "Get:2 http://archive.ubuntu.com/ubuntu jammy-updates InRelease [119 kB]\n",
            "Get:3 http://security.ubuntu.com/ubuntu jammy-security InRelease [110 kB]\n",
            "Get:4 https://cloud.r-project.org/bin/linux/ubuntu jammy-cran40/ InRelease [3,626 B]\n",
            "Hit:5 http://archive.ubuntu.com/ubuntu jammy-backports InRelease\n",
            "Get:6 https://developer.download.nvidia.com/compute/cuda/repos/ubuntu2204/x86_64  InRelease [1,581 B]\n",
            "Get:7 https://ppa.launchpadcontent.net/c2d4u.team/c2d4u4.0+/ubuntu jammy InRelease [18.1 kB]\n",
            "Hit:8 https://ppa.launchpadcontent.net/deadsnakes/ppa/ubuntu jammy InRelease\n",
            "Hit:9 https://ppa.launchpadcontent.net/graphics-drivers/ppa/ubuntu jammy InRelease\n",
            "Get:10 http://security.ubuntu.com/ubuntu jammy-security/restricted amd64 Packages [1,600 kB]\n",
            "Hit:11 https://ppa.launchpadcontent.net/ubuntugis/ppa/ubuntu jammy InRelease\n",
            "Get:12 http://security.ubuntu.com/ubuntu jammy-security/universe amd64 Packages [1,053 kB]\n",
            "Get:13 http://security.ubuntu.com/ubuntu jammy-security/main amd64 Packages [1,344 kB]\n",
            "Get:14 http://archive.ubuntu.com/ubuntu jammy-updates/main amd64 Packages [1,621 kB]\n",
            "Get:15 http://archive.ubuntu.com/ubuntu jammy-updates/universe amd64 Packages [1,313 kB]\n",
            "Get:16 http://archive.ubuntu.com/ubuntu jammy-updates/restricted amd64 Packages [1,635 kB]\n",
            "Get:17 http://archive.ubuntu.com/ubuntu jammy-updates/multiverse amd64 Packages [50.4 kB]\n",
            "Get:18 https://developer.download.nvidia.com/compute/cuda/repos/ubuntu2204/x86_64  Packages [662 kB]\n",
            "Get:19 https://ppa.launchpadcontent.net/c2d4u.team/c2d4u4.0+/ubuntu jammy/main Sources [2,263 kB]\n",
            "Get:20 https://ppa.launchpadcontent.net/c2d4u.team/c2d4u4.0+/ubuntu jammy/main amd64 Packages [1,161 kB]\n",
            "Fetched 13.0 MB in 7s (1,914 kB/s)\n",
            "Reading package lists... Done\n",
            "Reading package lists... Done\n",
            "Building dependency tree... Done\n",
            "Reading state information... Done\n",
            "The following additional packages will be installed:\n",
            "  libpython3.11-minimal libpython3.11-stdlib mailcap mime-support\n",
            "  python3.11-minimal\n",
            "Suggested packages:\n",
            "  python3.11-venv binfmt-support\n",
            "The following NEW packages will be installed:\n",
            "  libpython3.11-minimal libpython3.11-stdlib mailcap mime-support python3.11\n",
            "  python3.11-minimal\n",
            "0 upgraded, 6 newly installed, 0 to remove and 27 not upgraded.\n",
            "Need to get 5,813 kB of archives.\n",
            "After this operation, 21.6 MB of additional disk space will be used.\n",
            "Get:1 http://archive.ubuntu.com/ubuntu jammy/main amd64 mailcap all 3.70+nmu1ubuntu1 [23.8 kB]\n",
            "Get:2 http://archive.ubuntu.com/ubuntu jammy/main amd64 mime-support all 3.66 [3,696 B]\n",
            "Get:3 https://ppa.launchpadcontent.net/deadsnakes/ppa/ubuntu jammy/main amd64 libpython3.11-minimal amd64 3.11.7-1+jammy1 [882 kB]\n",
            "Get:4 https://ppa.launchpadcontent.net/deadsnakes/ppa/ubuntu jammy/main amd64 python3.11-minimal amd64 3.11.7-1+jammy1 [2,353 kB]\n",
            "Get:5 https://ppa.launchpadcontent.net/deadsnakes/ppa/ubuntu jammy/main amd64 libpython3.11-stdlib amd64 3.11.7-1+jammy1 [1,920 kB]\n",
            "Get:6 https://ppa.launchpadcontent.net/deadsnakes/ppa/ubuntu jammy/main amd64 python3.11 amd64 3.11.7-1+jammy1 [629 kB]\n",
            "Fetched 5,813 kB in 7s (878 kB/s)\n",
            "debconf: unable to initialize frontend: Dialog\n",
            "debconf: (No usable dialog-like program is installed, so the dialog based frontend cannot be used. at /usr/share/perl5/Debconf/FrontEnd/Dialog.pm line 78, <> line 6.)\n",
            "debconf: falling back to frontend: Readline\n",
            "debconf: unable to initialize frontend: Readline\n",
            "debconf: (This frontend requires a controlling tty.)\n",
            "debconf: falling back to frontend: Teletype\n",
            "dpkg-preconfigure: unable to re-open stdin: \n",
            "Selecting previously unselected package libpython3.11-minimal:amd64.\n",
            "(Reading database ... 121654 files and directories currently installed.)\n",
            "Preparing to unpack .../0-libpython3.11-minimal_3.11.7-1+jammy1_amd64.deb ...\n",
            "Unpacking libpython3.11-minimal:amd64 (3.11.7-1+jammy1) ...\n",
            "Selecting previously unselected package python3.11-minimal.\n",
            "Preparing to unpack .../1-python3.11-minimal_3.11.7-1+jammy1_amd64.deb ...\n",
            "Unpacking python3.11-minimal (3.11.7-1+jammy1) ...\n",
            "Selecting previously unselected package mailcap.\n",
            "Preparing to unpack .../2-mailcap_3.70+nmu1ubuntu1_all.deb ...\n",
            "Unpacking mailcap (3.70+nmu1ubuntu1) ...\n",
            "Selecting previously unselected package mime-support.\n",
            "Preparing to unpack .../3-mime-support_3.66_all.deb ...\n",
            "Unpacking mime-support (3.66) ...\n",
            "Selecting previously unselected package libpython3.11-stdlib:amd64.\n",
            "Preparing to unpack .../4-libpython3.11-stdlib_3.11.7-1+jammy1_amd64.deb ...\n",
            "Unpacking libpython3.11-stdlib:amd64 (3.11.7-1+jammy1) ...\n",
            "Selecting previously unselected package python3.11.\n",
            "Preparing to unpack .../5-python3.11_3.11.7-1+jammy1_amd64.deb ...\n",
            "Unpacking python3.11 (3.11.7-1+jammy1) ...\n",
            "Setting up libpython3.11-minimal:amd64 (3.11.7-1+jammy1) ...\n",
            "Setting up mailcap (3.70+nmu1ubuntu1) ...\n",
            "Setting up python3.11-minimal (3.11.7-1+jammy1) ...\n",
            "Setting up mime-support (3.66) ...\n",
            "Setting up libpython3.11-stdlib:amd64 (3.11.7-1+jammy1) ...\n",
            "Setting up python3.11 (3.11.7-1+jammy1) ...\n",
            "Processing triggers for man-db (2.10.2-1) ...\n",
            "update-alternatives: error: alternative path /usr/bin/python3.7 doesn't exist\n",
            "update-alternatives: using /usr/bin/python3.11 to provide /usr/bin/python3 (python3) in auto mode\n",
            "Python 3.11.7\n",
            "Reading package lists... Done\n",
            "Building dependency tree... Done\n",
            "Reading state information... Done\n",
            "The following additional packages will be installed:\n",
            "  python3-setuptools python3-wheel\n",
            "Suggested packages:\n",
            "  python-setuptools-doc\n",
            "The following NEW packages will be installed:\n",
            "  python3-pip python3-setuptools python3-wheel\n",
            "0 upgraded, 3 newly installed, 0 to remove and 27 not upgraded.\n",
            "Need to get 1,677 kB of archives.\n",
            "After this operation, 8,967 kB of additional disk space will be used.\n",
            "Get:1 http://archive.ubuntu.com/ubuntu jammy-updates/main amd64 python3-setuptools all 59.6.0-1.2ubuntu0.22.04.1 [339 kB]\n",
            "Get:2 http://archive.ubuntu.com/ubuntu jammy-updates/universe amd64 python3-wheel all 0.37.1-2ubuntu0.22.04.1 [32.0 kB]\n",
            "Get:3 http://archive.ubuntu.com/ubuntu jammy-updates/universe amd64 python3-pip all 22.0.2+dfsg-1ubuntu0.4 [1,305 kB]\n",
            "Fetched 1,677 kB in 0s (5,388 kB/s)\n",
            "debconf: unable to initialize frontend: Dialog\n",
            "debconf: (No usable dialog-like program is installed, so the dialog based frontend cannot be used. at /usr/share/perl5/Debconf/FrontEnd/Dialog.pm line 78, <> line 3.)\n",
            "debconf: falling back to frontend: Readline\n",
            "debconf: unable to initialize frontend: Readline\n",
            "debconf: (This frontend requires a controlling tty.)\n",
            "debconf: falling back to frontend: Teletype\n",
            "dpkg-preconfigure: unable to re-open stdin: \n",
            "Selecting previously unselected package python3-setuptools.\n",
            "(Reading database ... 122357 files and directories currently installed.)\n",
            "Preparing to unpack .../python3-setuptools_59.6.0-1.2ubuntu0.22.04.1_all.deb ...\n",
            "Unpacking python3-setuptools (59.6.0-1.2ubuntu0.22.04.1) ...\n",
            "Selecting previously unselected package python3-wheel.\n",
            "Preparing to unpack .../python3-wheel_0.37.1-2ubuntu0.22.04.1_all.deb ...\n",
            "Unpacking python3-wheel (0.37.1-2ubuntu0.22.04.1) ...\n",
            "Selecting previously unselected package python3-pip.\n",
            "Preparing to unpack .../python3-pip_22.0.2+dfsg-1ubuntu0.4_all.deb ...\n",
            "Unpacking python3-pip (22.0.2+dfsg-1ubuntu0.4) ...\n",
            "Setting up python3-setuptools (59.6.0-1.2ubuntu0.22.04.1) ...\n",
            "Setting up python3-wheel (0.37.1-2ubuntu0.22.04.1) ...\n",
            "Setting up python3-pip (22.0.2+dfsg-1ubuntu0.4) ...\n",
            "Processing triggers for man-db (2.10.2-1) ...\n"
          ]
        }
      ]
    },
    {
      "cell_type": "markdown",
      "source": [
        "# 2. Install BurstIQ Command Line (cliq2)"
      ],
      "metadata": {
        "id": "h5AH1voO-x6r"
      }
    },
    {
      "cell_type": "markdown",
      "source": [
        "Grab Python Wheel Installation file from Github Repo"
      ],
      "metadata": {
        "id": "EakOIAvv_JO7"
      }
    },
    {
      "cell_type": "code",
      "source": [
        "!curl -H 'Accept: application/vnd.github.v3.raw' -O \\\n",
        "  -L https://api.github.com/repos/clinical-squared/BurstIQ/contents/cliq2-1.0.0-py3-none-any.whl"
      ],
      "metadata": {
        "id": "eYwxRk6EIpNe",
        "outputId": "ecc8f4f4-1508-40ab-a78e-def01f2e26f9",
        "colab": {
          "base_uri": "https://localhost:8080/"
        }
      },
      "execution_count": 3,
      "outputs": [
        {
          "output_type": "stream",
          "name": "stdout",
          "text": [
            "  % Total    % Received % Xferd  Average Speed   Time    Time     Time  Current\n",
            "                                 Dload  Upload   Total   Spent    Left  Speed\n",
            "\r  0     0    0     0    0     0      0      0 --:--:-- --:--:-- --:--:--     0\r  0     0    0     0    0     0      0      0 --:--:-- --:--:-- --:--:--     0\r100 21896  100 21896    0     0  98989      0 --:--:-- --:--:-- --:--:-- 98630\n"
          ]
        }
      ]
    },
    {
      "cell_type": "markdown",
      "source": [
        "Install from Wheel file"
      ],
      "metadata": {
        "id": "cTgHz2U9JCFZ"
      }
    },
    {
      "cell_type": "code",
      "source": [
        "!pip3 install cliq2-1.0.0-py3-none-any.whl"
      ],
      "metadata": {
        "id": "vwuUFU_UJQD1",
        "outputId": "7b2df7d7-ba56-4729-cdfb-5274aa495cfa",
        "colab": {
          "base_uri": "https://localhost:8080/",
          "height": 984
        }
      },
      "execution_count": 4,
      "outputs": [
        {
          "output_type": "stream",
          "name": "stdout",
          "text": [
            "Processing ./cliq2-1.0.0-py3-none-any.whl\n",
            "Collecting setuptools>=67.8.0\n",
            "  Downloading setuptools-69.0.3-py3-none-any.whl (819 kB)\n",
            "\u001b[2K     \u001b[90m━━━━━━━━━━━━━━━━━━━━━━━━━━━━━━━━━━━━━━━━\u001b[0m \u001b[32m819.5/819.5 KB\u001b[0m \u001b[31m6.7 MB/s\u001b[0m eta \u001b[36m0:00:00\u001b[0m\n",
            "\u001b[?25hCollecting clint>=0.5.1\n",
            "  Downloading clint-0.5.1.tar.gz (29 kB)\n",
            "  Preparing metadata (setup.py) ... \u001b[?25l\u001b[?25hdone\n",
            "Collecting requests>=2.31.0\n",
            "  Downloading requests-2.31.0-py3-none-any.whl (62 kB)\n",
            "\u001b[2K     \u001b[90m━━━━━━━━━━━━━━━━━━━━━━━━━━━━━━━━━━━━━━━━\u001b[0m \u001b[32m62.6/62.6 KB\u001b[0m \u001b[31m7.0 MB/s\u001b[0m eta \u001b[36m0:00:00\u001b[0m\n",
            "\u001b[?25hCollecting pyyaml>=6.0.1\n",
            "  Downloading PyYAML-6.0.1-cp311-cp311-manylinux_2_17_x86_64.manylinux2014_x86_64.whl (757 kB)\n",
            "\u001b[2K     \u001b[90m━━━━━━━━━━━━━━━━━━━━━━━━━━━━━━━━━━━━━━━━\u001b[0m \u001b[32m757.7/757.7 KB\u001b[0m \u001b[31m11.4 MB/s\u001b[0m eta \u001b[36m0:00:00\u001b[0m\n",
            "\u001b[?25hCollecting requests-toolbelt>=1.0.0\n",
            "  Downloading requests_toolbelt-1.0.0-py2.py3-none-any.whl (54 kB)\n",
            "\u001b[2K     \u001b[90m━━━━━━━━━━━━━━━━━━━━━━━━━━━━━━━━━━━━━━━━\u001b[0m \u001b[32m54.5/54.5 KB\u001b[0m \u001b[31m6.9 MB/s\u001b[0m eta \u001b[36m0:00:00\u001b[0m\n",
            "\u001b[?25hCollecting nose>=1.3.7\n",
            "  Downloading nose-1.3.7-py3-none-any.whl (154 kB)\n",
            "\u001b[2K     \u001b[90m━━━━━━━━━━━━━━━━━━━━━━━━━━━━━━━━━━━━━━━━\u001b[0m \u001b[32m154.7/154.7 KB\u001b[0m \u001b[31m10.0 MB/s\u001b[0m eta \u001b[36m0:00:00\u001b[0m\n",
            "\u001b[?25hCollecting args\n",
            "  Downloading args-0.1.0.tar.gz (3.0 kB)\n",
            "  Preparing metadata (setup.py) ... \u001b[?25l\u001b[?25hdone\n",
            "Collecting certifi>=2017.4.17\n",
            "  Downloading certifi-2023.11.17-py3-none-any.whl (162 kB)\n",
            "\u001b[2K     \u001b[90m━━━━━━━━━━━━━━━━━━━━━━━━━━━━━━━━━━━━━━━━\u001b[0m \u001b[32m162.5/162.5 KB\u001b[0m \u001b[31m8.9 MB/s\u001b[0m eta \u001b[36m0:00:00\u001b[0m\n",
            "\u001b[?25hCollecting charset-normalizer<4,>=2\n",
            "  Downloading charset_normalizer-3.3.2-cp311-cp311-manylinux_2_17_x86_64.manylinux2014_x86_64.whl (140 kB)\n",
            "\u001b[2K     \u001b[90m━━━━━━━━━━━━━━━━━━━━━━━━━━━━━━━━━━━━━━━━\u001b[0m \u001b[32m140.3/140.3 KB\u001b[0m \u001b[31m11.7 MB/s\u001b[0m eta \u001b[36m0:00:00\u001b[0m\n",
            "\u001b[?25hCollecting idna<4,>=2.5\n",
            "  Downloading idna-3.6-py3-none-any.whl (61 kB)\n",
            "\u001b[2K     \u001b[90m━━━━━━━━━━━━━━━━━━━━━━━━━━━━━━━━━━━━━━━━\u001b[0m \u001b[32m61.6/61.6 KB\u001b[0m \u001b[31m7.4 MB/s\u001b[0m eta \u001b[36m0:00:00\u001b[0m\n",
            "\u001b[?25hCollecting urllib3<3,>=1.21.1\n",
            "  Downloading urllib3-2.1.0-py3-none-any.whl (104 kB)\n",
            "\u001b[2K     \u001b[90m━━━━━━━━━━━━━━━━━━━━━━━━━━━━━━━━━━━━━━━━\u001b[0m \u001b[32m104.6/104.6 KB\u001b[0m \u001b[31m11.0 MB/s\u001b[0m eta \u001b[36m0:00:00\u001b[0m\n",
            "\u001b[?25hBuilding wheels for collected packages: clint, args\n",
            "  Building wheel for clint (setup.py) ... \u001b[?25l\u001b[?25hdone\n",
            "  Created wheel for clint: filename=clint-0.5.1-py3-none-any.whl size=34473 sha256=9b50237dfc050b359898b2072673a4eb0c3831994b9675f0ddc13e4896abcc6d\n",
            "  Stored in directory: /root/.cache/pip/wheels/a0/8d/f3/91dd49f9a8c6a57be7715f6d11347c49971dd292a53397ed79\n",
            "  Building wheel for args (setup.py) ... \u001b[?25l\u001b[?25hdone\n",
            "  Created wheel for args: filename=args-0.1.0-py3-none-any.whl size=3318 sha256=4a38a47a7a1a3f6e98a4520df707f3070d74c3e85148036e5ace8b67c65cb8ae\n",
            "  Stored in directory: /root/.cache/pip/wheels/15/a2/87/2541eb895fd18fd20cc7dd18b14d3b61bd9084cf4322abd15e\n",
            "Successfully built clint args\n",
            "Installing collected packages: nose, args, urllib3, setuptools, pyyaml, idna, clint, charset-normalizer, certifi, requests, requests-toolbelt, cliq2\n",
            "  Attempting uninstall: setuptools\n",
            "    Found existing installation: setuptools 59.6.0\n",
            "    Not uninstalling setuptools at /usr/lib/python3/dist-packages, outside environment /usr\n",
            "    Can't uninstall 'setuptools'. No files were found to uninstall.\n",
            "Successfully installed args-0.1.0 certifi-2023.11.17 charset-normalizer-3.3.2 clint-0.5.1 cliq2-1.0.0 idna-3.6 nose-1.3.7 pyyaml-6.0.1 requests-2.31.0 requests-toolbelt-1.0.0 setuptools-69.0.3 urllib3-2.1.0\n",
            "\u001b[33mWARNING: Running pip as the 'root' user can result in broken permissions and conflicting behaviour with the system package manager. It is recommended to use a virtual environment instead: https://pip.pypa.io/warnings/venv\u001b[0m\u001b[33m\n",
            "\u001b[0m"
          ]
        },
        {
          "output_type": "display_data",
          "data": {
            "application/vnd.colab-display-data+json": {
              "pip_warning": {
                "packages": [
                  "certifi"
                ]
              }
            }
          },
          "metadata": {}
        }
      ]
    },
    {
      "cell_type": "markdown",
      "source": [
        "Verify that command line program is installed correctly"
      ],
      "metadata": {
        "id": "B2E8F1IyYkj0"
      }
    },
    {
      "cell_type": "code",
      "source": [
        "!cliq2 -h"
      ],
      "metadata": {
        "colab": {
          "base_uri": "https://localhost:8080/"
        },
        "id": "yK1_cswnbSdY",
        "outputId": "4b122869-21de-425a-8a3c-f2c9c9383434"
      },
      "execution_count": 5,
      "outputs": [
        {
          "output_type": "stream",
          "name": "stdout",
          "text": [
            "usage: cliq2 [-h] [-p PROPS_FILE]\n",
            "             {version,drop_customer,drop_sdz,update_customer,predict,update_dict,import_dbschema,export_dbschema,truncate_chain,load,query,create_smart,execute_smart}\n",
            "             ...\n",
            "\n",
            "Command Line IQ (CLIQ) working with LifeGraph (aka GraphChain): Performs many of the admin-centric\n",
            "commands necessary to support/manage a customer and its SDZs.\n",
            "\n",
            "positional arguments:\n",
            "  {version,drop_customer,drop_sdz,update_customer,predict,update_dict,import_dbschema,export_dbschema,truncate_chain,load,query,create_smart,execute_smart}\n",
            "                        type \"<cmd> --help\" for help on specific command\n",
            "    version             version number\n",
            "    drop_customer       drop a customer by short name, BIQ_ADMIN only\n",
            "    drop_sdz            drop a customer's sdz by short name, BIQ_ADMIN only\n",
            "    update_customer     upserts a customer JSON configuration file, BIQ_ADMIN only\n",
            "    predict             uses a data file to predict the dictionary and mapping\n",
            "    update_dict         upserts a dictionary JSON configuration file\n",
            "    import_dbschema     upserts a dbschema file as an async job\n",
            "    export_dbschema     exports a dbschema file\n",
            "    truncate_chain      truncates a chain by name\n",
            "    load                loads data file as an async job\n",
            "    query               queries data with command line query or query from file; plus prints\n",
            "                        results to stdout or to a file\n",
            "    create_smart        create a smart contract from file\n",
            "    execute_smart       executes a smart contract\n",
            "\n",
            "options:\n",
            "  -h, --help            show this help message and exit\n",
            "  -p PROPS_FILE, --props PROPS_FILE\n",
            "                        filename of properties file; defaults to ./cliq2.yml\n",
            "\n",
            "Copyright (c) 2015-2024 BurstIQ, Inc - All Rights Reserved\n"
          ]
        }
      ]
    },
    {
      "cell_type": "code",
      "source": [
        "!cliq2 update_customer -h"
      ],
      "metadata": {
        "id": "GbP3NJLQ4K0E",
        "outputId": "8c7ee275-4c3e-4e96-83e7-8096bfc39044",
        "colab": {
          "base_uri": "https://localhost:8080/"
        }
      },
      "execution_count": 6,
      "outputs": [
        {
          "output_type": "stream",
          "name": "stdout",
          "text": [
            "usage: cliq2 update_customer [-h] --file FILE\n",
            "\n",
            "options:\n",
            "  -h, --help            show this help message and exit\n",
            "  --file FILE, -f FILE  the file path for the input\n"
          ]
        }
      ]
    },
    {
      "cell_type": "markdown",
      "source": [
        "# 3. Build the Config file (cliq2.yml)"
      ],
      "metadata": {
        "id": "FYxj-9p3YbWj"
      }
    },
    {
      "cell_type": "markdown",
      "source": [
        "Documentation is at https://admin.burstiq.com/docs/pages/metadata_tools/cliq2/cliq2_desc.html#configuration\n",
        "\n",
        "Example cliq2.yml:\n",
        "> biq_admin:\n",
        ">>  username: burstiq.admin  \n",
        ">>  password: XXXXXXXXXXXXXXXXXX  \n",
        ">>  server: https://keycloak.app.burstiq.com/auth  \n",
        ">>  client_id: aaaaaaaaaaaa  \n",
        ">>  realm: bbbbbbbbbbbb\n",
        "\n",
        "> sdz_admin:\n",
        ">>  username: john.wayne  \n",
        ">>  password: XXXXXXXXXXXXXXXXXX  \n",
        ">>  server: https://keycloak.app.burstiq.com/auth  \n",
        ">>  client_id: burst  \n",
        ">>  realm: { customer_shortname }  \n",
        "\n",
        "> graphchain:\n",
        ">>  server: https://app.burstiq.com  \n",
        ">>  customer: { customer_shortname }  \n",
        ">>  sdz: { customer_sdz_name }  "
      ],
      "metadata": {
        "id": "zWU1GCgvE1Ts"
      }
    },
    {
      "cell_type": "markdown",
      "source": [
        "Use secrets for username, password, customer_shortname and customer_sdz name (the key on the left menu) to generate cliq.yml <br />\n",
        "<b>IMPORTANT!!! </b> If you uncomment the #cat, be sure to delete the results before saving or all your secret information will be in the save file!"
      ],
      "metadata": {
        "id": "w6qNAwr8HI4T"
      }
    },
    {
      "cell_type": "code",
      "source": [
        "from google.colab import userdata\n",
        "yml = open(r\"cliq2.yml\", \"w\")\n",
        "yml.write(\"sdz_admin:\\n\");\n",
        "yml.writelines(\"   username: \" + userdata.get('username') + \"\\n\");\n",
        "yml.writelines(\"   password: \" + userdata.get('password') + \"\\n\");\n",
        "yml.writelines(\"   server: https://keycloak.app.burstiq.com/auth\\n\");\n",
        "yml.writelines(\"   client_id: burst\\n\");\n",
        "yml.writelines(\"   realm: \" + userdata.get('customer_shortname') + \"\\n\");\n",
        "yml.writelines(\"graphchain:\\n\");\n",
        "yml.writelines(\"   server: https://app.burstiq.com\\n\");\n",
        "yml.writelines(\"   customer: \" + userdata.get('customer_shortname') + \"\\n\");\n",
        "yml.writelines(\"   sdz: \" + userdata.get('customer_sdz_name') + \"\\n\");\n",
        "yml.close();\n",
        "\n",
        "# !cat cliq2.yml\n"
      ],
      "metadata": {
        "id": "Qsq622-jDHQk"
      },
      "execution_count": 22,
      "outputs": []
    },
    {
      "cell_type": "markdown",
      "source": [
        "# 4. Initialize the new API"
      ],
      "metadata": {
        "id": "UDH5EAV9L9S4"
      }
    },
    {
      "cell_type": "markdown",
      "source": [
        "Copy Cliq2 Wheel file and unzip original BurstIQ source files from it"
      ],
      "metadata": {
        "id": "1yvMWTAG5BKc"
      }
    },
    {
      "cell_type": "code",
      "source": [
        "!curl -H 'Accept: application/vnd.github.v3.raw' -O \\\n",
        "  -L https://api.github.com/repos/clinical-squared/BurstIQ/contents/cliq2-1.0.0-py3-none-any.whl\n",
        "\n",
        "! cp cliq2-1.0.0-py3-none-any.whl API.zip\n",
        "! unzip -o API.zip"
      ],
      "metadata": {
        "colab": {
          "base_uri": "https://localhost:8080/"
        },
        "id": "mLqkGmkmMD9K",
        "outputId": "3e7b7ca6-8cc7-4315-8afa-3c8aef3f4e35"
      },
      "execution_count": 8,
      "outputs": [
        {
          "output_type": "stream",
          "name": "stdout",
          "text": [
            "  % Total    % Received % Xferd  Average Speed   Time    Time     Time  Current\n",
            "                                 Dload  Upload   Total   Spent    Left  Speed\n",
            "100 21896  100 21896    0     0  93402      0 --:--:-- --:--:-- --:--:-- 93572\n",
            "Archive:  API.zip\n",
            "  inflating: __init__.py             \n",
            "  inflating: cliq2.py                \n",
            "  inflating: cliq_properties.py      \n",
            "  inflating: consts.py               \n",
            "  inflating: util.py                 \n",
            "  inflating: actions/__init__.py     \n",
            "  inflating: actions/cliq_action.py  \n",
            "  inflating: actions/create_smart_contract.py  \n",
            "  inflating: actions/drop_customer.py  \n",
            "  inflating: actions/drop_sdz.py     \n",
            "  inflating: actions/execute_smart_contract.py  \n",
            "  inflating: actions/export_dbschema.py  \n",
            "  inflating: actions/import_dbschema.py  \n",
            "  inflating: actions/load_data.py    \n",
            "  inflating: actions/predict.py      \n",
            "  inflating: actions/query.py        \n",
            "  inflating: actions/truncate_chain.py  \n",
            "  inflating: actions/update_customer.py  \n",
            "  inflating: actions/update_dict.py  \n",
            "  inflating: actions/version.py      \n",
            "  inflating: graphchain_client/__init__.py  \n",
            "  inflating: graphchain_client/graphchain_client.py  \n",
            "  inflating: graphchain_client/http_client.py  \n",
            "  inflating: cliq2-1.0.0.dist-info/LICENSE  \n",
            "  inflating: cliq2-1.0.0.dist-info/METADATA  \n",
            "  inflating: cliq2-1.0.0.dist-info/WHEEL  \n",
            "  inflating: cliq2-1.0.0.dist-info/entry_points.txt  \n",
            "  inflating: cliq2-1.0.0.dist-info/top_level.txt  \n",
            "  inflating: cliq2-1.0.0.dist-info/RECORD  \n"
          ]
        }
      ]
    },
    {
      "cell_type": "markdown",
      "source": [
        "Import and validate CliqProperties"
      ],
      "metadata": {
        "id": "SyiNHsdH59Wi"
      }
    },
    {
      "cell_type": "code",
      "source": [
        "import sys\n",
        "sys.path.append('/usr/local/lib/python3.11/dist-packages/')\n",
        "print(\"IGNORE clint SYNTAX warning (if clint has not been imported before)\")\n",
        "import clint\n",
        "from cliq_properties import CliqProperties\n",
        "from util import Util\n",
        "props = CliqProperties(Util.standardize_file(\"cliq2.yml\"))\n",
        "print(props._graphchain)"
      ],
      "metadata": {
        "colab": {
          "base_uri": "https://localhost:8080/"
        },
        "id": "iVENV0f7WckB",
        "outputId": "e6acaa04-41bf-4628-8852-7387a05d1c93"
      },
      "execution_count": 9,
      "outputs": [
        {
          "output_type": "stream",
          "name": "stdout",
          "text": [
            "IGNORE clint SYNTAX warning (if clint has not been imported before)\n"
          ]
        },
        {
          "output_type": "stream",
          "name": "stderr",
          "text": [
            "/usr/local/lib/python3.11/dist-packages/clint/textui/prompt.py:68: SyntaxWarning: \"is not\" with a literal. Did you mean \"!=\"?\n",
            "  if prompt[-1] is not ' ':\n"
          ]
        },
        {
          "output_type": "stream",
          "name": "stdout",
          "text": [
            "{'server': 'https://app.burstiq.com', 'customer': 'clinical_squared', 'sdz': 'dev1'}\n"
          ]
        }
      ]
    },
    {
      "cell_type": "markdown",
      "source": [
        "Install and validate upgraded /graphchain_client/graphchain_client.py"
      ],
      "metadata": {
        "id": "YTZ9exNB64Zq"
      }
    },
    {
      "cell_type": "code",
      "source": [
        "!curl -H 'Accept: application/vnd.github.v3.raw' -O \\\n",
        "  -L https://api.github.com/repos/clinical-squared/BurstIQ/contents/graphchain_client/graphchain_client.py\n",
        "!mv graphchain_client.py graphchain_client\n",
        "from actions.cliq_action import CliqAction\n",
        "print (\"CliqAction imported!\")"
      ],
      "metadata": {
        "colab": {
          "base_uri": "https://localhost:8080/"
        },
        "id": "K6avoRoN1tYx",
        "outputId": "e05524bc-eb65-4ec8-8e35-7a648be6194c"
      },
      "execution_count": 10,
      "outputs": [
        {
          "output_type": "stream",
          "name": "stdout",
          "text": [
            "  % Total    % Received % Xferd  Average Speed   Time    Time     Time  Current\n",
            "                                 Dload  Upload   Total   Spent    Left  Speed\n",
            "100  7915  100  7915    0     0  21546      0 --:--:-- --:--:-- --:--:-- 21566\n",
            "CliqAction imported!\n"
          ]
        }
      ]
    },
    {
      "cell_type": "markdown",
      "source": [
        "# 5. Start Testing/Using the API"
      ],
      "metadata": {
        "id": "Qo9o-E_iBuMO"
      }
    },
    {
      "cell_type": "markdown",
      "source": [
        "Grab an access token for future API calls"
      ],
      "metadata": {
        "id": "P4dvtLgKA3p_"
      }
    },
    {
      "cell_type": "code",
      "source": [
        "realm = userdata.get('customer_shortname')\n",
        "un = userdata.get('username')\n",
        "pw = userdata.get('password')\n",
        "adminToken = CliqProperties._get_token(\"https://keycloak.app.burstiq.com/auth\", \"burst\", realm, un, pw)\n",
        "print(adminToken)"
      ],
      "metadata": {
        "colab": {
          "base_uri": "https://localhost:8080/"
        },
        "id": "1NM6Vnut-wgR",
        "outputId": "3afa2fdd-9e16-4f2d-ceff-b2466116bc33"
      },
      "execution_count": 12,
      "outputs": [
        {
          "output_type": "stream",
          "name": "stdout",
          "text": [
            "eyJhbGciOiJSUzI1NiIsInR5cCIgOiAiSldUIiwia2lkIiA6ICJ3MmdSOXFZaGpJVWZCNS00S3NSY2w2ODVsVUkzaExHcHdsa3d2dXRuQUVnIn0.eyJleHAiOjE3MDU0OTc1MTMsImlhdCI6MTcwNTQ5NjMxMywianRpIjoiODUyZTg0MWItNmM5ZC00MGYwLTlmYzItMjI0YjY0MTg1MjQ5IiwiaXNzIjoiaHR0cHM6Ly9rZXljbG9hay5hcHAuYnVyc3RpcS5jb20vYXV0aC9yZWFsbXMvY2xpbmljYWxfc3F1YXJlZCIsImF1ZCI6ImRldjEiLCJzdWIiOiI1OTFhZDA2ZC01OTQ1LTRhYmEtYjUzNy03MGM2OTQ5M2QzYWQiLCJ0eXAiOiJCZWFyZXIiLCJhenAiOiJidXJzdCIsInNlc3Npb25fc3RhdGUiOiI1NzlhNDRlMi1jOWI4LTQ0ZDQtODJjMy00NWQzYWE3ZWZlNWQiLCJhY3IiOiIxIiwiYWxsb3dlZC1vcmlnaW5zIjpbImh0dHBzOi8vYWRtaW4uYnVyc3RpcS5jb20iXSwicmVzb3VyY2VfYWNjZXNzIjp7ImRldjEiOnsicm9sZXMiOlsic2R6VXNlciIsInNkekFkbWluIl19fSwic2NvcGUiOiJlbWFpbCBwcm9maWxlIiwic2lkIjoiNTc5YTQ0ZTItYzliOC00NGQ0LTgyYzMtNDVkM2FhN2VmZTVkIiwiZW1haWxfdmVyaWZpZWQiOmZhbHNlLCJuYW1lIjoiV2FycmVuIFBlbHR6IiwicHJlZmVycmVkX3VzZXJuYW1lIjoid2FycmVuLnBlbHR6IiwiZ2l2ZW5fbmFtZSI6IldhcnJlbiIsImZhbWlseV9uYW1lIjoiUGVsdHoiLCJlbWFpbCI6IndhcnJlbi5wZWx0ekBjbGluaWNhbHNxdWFyZWQuY29tIn0.AvwL38sPiFszQd5n3REUMtIEqMAIGte-9aC63-uULJirnamwVGVBeSg80fxmYH7mV8hWyVnaV1b6ItqGOKW5kQZALlJZh6M0CxPMC-vAh7eWgFVxFNw58Ib9kTjs3Akl5098dtdsr_rFyPZNTyUENGSV4vMb4vEm6P7Gq3YoNSMZzpx7aZHx89sShgZuj81szO5vmM0MLY9EBXP-akBhIgLTDYB6htScsZm9wn0uMC_JuGPiL8QU-5Jq5N5o8N_okgaJhd_aNIdQTFGmtSwgqgXNADFoNGQ4kdPz_F5ArwK6hliaerqPF4uc4vXrGStZ4nO1jDGDUdXoLeFUv7Tn1g\n"
          ]
        }
      ]
    },
    {
      "cell_type": "markdown",
      "source": [
        "Since we need to build out our NPPES Data Dictionary, let's try the Predict function."
      ],
      "metadata": {
        "id": "r-XFJi-bh9vb"
      }
    },
    {
      "cell_type": "code",
      "source": [
        "!curl -H 'Accept: application/vnd.github.v3.raw' -O \\\n",
        "  -L https://api.github.com/repos/clinical-squared/BurstIQ/contents/NP_Providers_100.csv\n",
        "from graphchain_client.graphchain_client import GraphChainClient\n",
        "cust = userdata.get('customer_shortname')\n",
        "sdz = userdata.get('customer_sdz_name')\n",
        "gcc = GraphChainClient('https://app.burstiq.com', adminToken, cust, sdz)\n",
        "dictionary, mapping = gcc.predict(\"NP_Providers_100.csv\")"
      ],
      "metadata": {
        "colab": {
          "base_uri": "https://localhost:8080/",
          "height": 407
        },
        "id": "gu5rRp-Jf8-Q",
        "outputId": "6757ba3a-2f37-4c67-c0ae-2a4e213bdd87"
      },
      "execution_count": 18,
      "outputs": [
        {
          "output_type": "stream",
          "name": "stdout",
          "text": [
            "  % Total    % Received % Xferd  Average Speed   Time    Time     Time  Current\n",
            "                                 Dload  Upload   Total   Spent    Left  Speed\n",
            "\r  0     0    0     0    0     0      0      0 --:--:-- --:--:-- --:--:--     0\r100 69629  100 69629    0     0   279k      0 --:--:-- --:--:-- --:--:--  280k\n"
          ]
        },
        {
          "output_type": "error",
          "ename": "RuntimeError",
          "evalue": "error 500: resp: {\"id\":\"ae244b37-88fc-417c-a2a6-ca960c2e2f05\",\"timestamp\":\"2024-01-17T13:05:49.763Z\",\"status\":500,\"error\":\"INTERNAL_SERVER_ERROR\"}",
          "traceback": [
            "\u001b[0;31m---------------------------------------------------------------------------\u001b[0m",
            "\u001b[0;31mRuntimeError\u001b[0m                              Traceback (most recent call last)",
            "\u001b[0;32m<ipython-input-18-7e6722421174>\u001b[0m in \u001b[0;36m<cell line: 6>\u001b[0;34m()\u001b[0m\n\u001b[1;32m      4\u001b[0m \u001b[0msdz\u001b[0m \u001b[0;34m=\u001b[0m \u001b[0muserdata\u001b[0m\u001b[0;34m.\u001b[0m\u001b[0mget\u001b[0m\u001b[0;34m(\u001b[0m\u001b[0;34m'customer_sdz_name'\u001b[0m\u001b[0;34m)\u001b[0m\u001b[0;34m\u001b[0m\u001b[0;34m\u001b[0m\u001b[0m\n\u001b[1;32m      5\u001b[0m \u001b[0mgcc\u001b[0m \u001b[0;34m=\u001b[0m \u001b[0mGraphChainClient\u001b[0m\u001b[0;34m(\u001b[0m\u001b[0;34m'https://app.burstiq.com'\u001b[0m\u001b[0;34m,\u001b[0m \u001b[0madminToken\u001b[0m\u001b[0;34m,\u001b[0m \u001b[0mcust\u001b[0m\u001b[0;34m,\u001b[0m \u001b[0msdz\u001b[0m\u001b[0;34m)\u001b[0m\u001b[0;34m\u001b[0m\u001b[0;34m\u001b[0m\u001b[0m\n\u001b[0;32m----> 6\u001b[0;31m \u001b[0mdictionary\u001b[0m\u001b[0;34m,\u001b[0m \u001b[0mmapping\u001b[0m \u001b[0;34m=\u001b[0m \u001b[0mgcc\u001b[0m\u001b[0;34m.\u001b[0m\u001b[0mpredict\u001b[0m\u001b[0;34m(\u001b[0m\u001b[0;34m\"NP_Providers_100.csv\"\u001b[0m\u001b[0;34m)\u001b[0m\u001b[0;34m\u001b[0m\u001b[0;34m\u001b[0m\u001b[0m\n\u001b[0m",
            "\u001b[0;32m/content/graphchain_client/graphchain_client.py\u001b[0m in \u001b[0;36mpredict\u001b[0;34m(self, fn)\u001b[0m\n\u001b[1;32m    102\u001b[0m         \u001b[0;34m:\u001b[0m\u001b[0;32mreturn\u001b[0m\u001b[0;34m:\u001b[0m \u001b[0mdictionary\u001b[0m\u001b[0;34m,\u001b[0m \u001b[0mmapping\u001b[0m\u001b[0;34m\u001b[0m\u001b[0;34m\u001b[0m\u001b[0m\n\u001b[1;32m    103\u001b[0m         \"\"\"\n\u001b[0;32m--> 104\u001b[0;31m         code, resp = self._hc.post_multipart(\n\u001b[0m\u001b[1;32m    105\u001b[0m             \u001b[0;34mf\"api/metadata/dictionary/predict\"\u001b[0m\u001b[0;34m,\u001b[0m \u001b[0;32mNone\u001b[0m\u001b[0;34m,\u001b[0m \u001b[0;32mNone\u001b[0m\u001b[0;34m,\u001b[0m \u001b[0;34m{\u001b[0m\u001b[0;34m\"file\"\u001b[0m\u001b[0;34m:\u001b[0m \u001b[0mfn\u001b[0m\u001b[0;34m}\u001b[0m\u001b[0;34m,\u001b[0m \u001b[0;32mNone\u001b[0m\u001b[0;34m\u001b[0m\u001b[0;34m\u001b[0m\u001b[0m\n\u001b[1;32m    106\u001b[0m         )\n",
            "\u001b[0;32m/content/graphchain_client/http_client.py\u001b[0m in \u001b[0;36mpost_multipart\u001b[0;34m(self, path, addl_headers, query_params, files, form)\u001b[0m\n\u001b[1;32m    191\u001b[0m             \u001b[0mdata\u001b[0m\u001b[0;34m=\u001b[0m\u001b[0mmonitored\u001b[0m\u001b[0;34m,\u001b[0m\u001b[0;34m\u001b[0m\u001b[0;34m\u001b[0m\u001b[0m\n\u001b[1;32m    192\u001b[0m         )\n\u001b[0;32m--> 193\u001b[0;31m         \u001b[0;32mreturn\u001b[0m \u001b[0mself\u001b[0m\u001b[0;34m.\u001b[0m\u001b[0m_process_response\u001b[0m\u001b[0;34m(\u001b[0m\u001b[0mresp\u001b[0m\u001b[0;34m)\u001b[0m\u001b[0;34m\u001b[0m\u001b[0;34m\u001b[0m\u001b[0m\n\u001b[0m\u001b[1;32m    194\u001b[0m \u001b[0;34m\u001b[0m\u001b[0m\n\u001b[1;32m    195\u001b[0m     def get_octet(\n",
            "\u001b[0;32m/content/graphchain_client/http_client.py\u001b[0m in \u001b[0;36m_process_response\u001b[0;34m(self, response)\u001b[0m\n\u001b[1;32m    231\u001b[0m         \u001b[0;32melse\u001b[0m\u001b[0;34m:\u001b[0m\u001b[0;34m\u001b[0m\u001b[0;34m\u001b[0m\u001b[0m\n\u001b[1;32m    232\u001b[0m             \u001b[0;32mif\u001b[0m \u001b[0mself\u001b[0m\u001b[0;34m.\u001b[0m\u001b[0m_raise_error\u001b[0m\u001b[0;34m:\u001b[0m\u001b[0;34m\u001b[0m\u001b[0;34m\u001b[0m\u001b[0m\n\u001b[0;32m--> 233\u001b[0;31m                 raise RuntimeError(\n\u001b[0m\u001b[1;32m    234\u001b[0m                     \u001b[0;34mf\"error {response.status_code}: resp: {response.text}\"\u001b[0m\u001b[0;34m\u001b[0m\u001b[0;34m\u001b[0m\u001b[0m\n\u001b[1;32m    235\u001b[0m                 )\n",
            "\u001b[0;31mRuntimeError\u001b[0m: error 500: resp: {\"id\":\"ae244b37-88fc-417c-a2a6-ca960c2e2f05\",\"timestamp\":\"2024-01-17T13:05:49.763Z\",\"status\":500,\"error\":\"INTERNAL_SERVER_ERROR\"}"
          ]
        }
      ]
    },
    {
      "cell_type": "markdown",
      "source": [
        "Yeah, that's unfortunate.  <br />Let's verify that Cliq2 can't handle the file either rather than it being an API problem."
      ],
      "metadata": {
        "id": "4qn9K5B_iNqo"
      }
    },
    {
      "cell_type": "code",
      "source": [
        "!cliq2 predict -f \"NP_Providers_100.csv\""
      ],
      "metadata": {
        "colab": {
          "base_uri": "https://localhost:8080/"
        },
        "id": "l2fTtFFViJ_P",
        "outputId": "69f86e97-c01f-4078-ff0c-0ded819343d7"
      },
      "execution_count": 20,
      "outputs": [
        {
          "output_type": "stream",
          "name": "stdout",
          "text": [
            "Traceback (most recent call last):\n",
            "  File \"/usr/local/bin/cliq2\", line 8, in <module>\n",
            "    sys.exit(main())\n",
            "             ^^^^^^\n",
            "  File \"/usr/local/lib/python3.11/dist-packages/cliq2.py\", line 90, in main\n",
            "    a.run(opts, props)\n",
            "  File \"/usr/local/lib/python3.11/dist-packages/actions/predict.py\", line 21, in run\n",
            "    dictionary, mapping = gc.predict(opts.file)\n",
            "                          ^^^^^^^^^^^^^^^^^^^^^\n",
            "  File \"/usr/local/lib/python3.11/dist-packages/graphchain_client/graphchain_client.py\", line 95, in predict\n",
            "    code, resp = self._hc.post_multipart(\n",
            "                 ^^^^^^^^^^^^^^^^^^^^^^^^\n",
            "  File \"/usr/local/lib/python3.11/dist-packages/graphchain_client/http_client.py\", line 193, in post_multipart\n",
            "    return self._process_response(resp)\n",
            "           ^^^^^^^^^^^^^^^^^^^^^^^^^^^^\n",
            "  File \"/usr/local/lib/python3.11/dist-packages/graphchain_client/http_client.py\", line 233, in _process_response\n",
            "    raise RuntimeError(\n",
            "RuntimeError: error 500: resp: {\"id\":\"dba64f2c-0ebb-4738-8615-d67ac9033b12\",\"timestamp\":\"2024-01-17T13:10:02.925Z\",\"status\":500,\"error\":\"INTERNAL_SERVER_ERROR\"}\n"
          ]
        }
      ]
    },
    {
      "cell_type": "markdown",
      "source": [
        "Yep.  It's BurstIQ's problem.  Reported to Tyson.<br />\n",
        "Tyson acknowledged the problem and fixed it but it hasn't been rolled to production.<br />We'll try again later."
      ],
      "metadata": {
        "id": "NeWwprS8iyQ0"
      }
    },
    {
      "cell_type": "code",
      "source": [],
      "metadata": {
        "id": "0yiq4UBsi7mf"
      },
      "execution_count": null,
      "outputs": []
    }
  ]
}