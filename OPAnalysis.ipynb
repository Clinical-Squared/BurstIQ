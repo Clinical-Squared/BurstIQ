{
  "cells": [
    {
      "cell_type": "markdown",
      "metadata": {
        "id": "view-in-github",
        "colab_type": "text"
      },
      "source": [
        "<a href=\"https://colab.research.google.com/github/MWaser/BurstIQ/blob/main/OPAnalysis.ipynb\" target=\"_parent\"><img src=\"https://colab.research.google.com/assets/colab-badge.svg\" alt=\"Open In Colab\"/></a>"
      ]
    },
    {
      "cell_type": "markdown",
      "id": "deeaf20c-d06a-4430-9fbf-c08a9489efdd",
      "metadata": {
        "id": "deeaf20c-d06a-4430-9fbf-c08a9489efdd"
      },
      "source": [
        "# Econometrica vs. Public OP Data Analysis"
      ]
    },
    {
      "cell_type": "markdown",
      "id": "5265f64e-0acb-4675-8953-c3e33d6a2899",
      "metadata": {
        "id": "5265f64e-0acb-4675-8953-c3e33d6a2899"
      },
      "source": [
        "<b>Results TL;DR</b><ol>\n",
        "<li>EM has FEWER Products per year than the published OPA data</li>\n",
        "<li>EM has FEWER Payments per year than the published OPA data</li>\n",
        "<li><b><i>EM has records of OPA Payments that DO NOT EXIST in the published OPA data</b></i></li></b><ol>"
      ]
    },
    {
      "cell_type": "markdown",
      "id": "03bb1dcb-1a7b-4589-aeb4-d77f3e340147",
      "metadata": {
        "id": "03bb1dcb-1a7b-4589-aeb4-d77f3e340147"
      },
      "source": [
        "<b>This notebook must be downloaded to a whitelisted machine to re-run queries.  You must also fill in your SQL userID and password</b>"
      ]
    },
    {
      "cell_type": "code",
      "execution_count": null,
      "id": "aa38802f-ac3c-4787-b2f9-8e2199506340",
      "metadata": {
        "id": "aa38802f-ac3c-4787-b2f9-8e2199506340"
      },
      "outputs": [],
      "source": [
        "userID = \"\"\n",
        "password = \"\""
      ]
    },
    {
      "cell_type": "markdown",
      "id": "a12ef656-8c68-4632-9f6f-a4aca4b2fffd",
      "metadata": {
        "id": "a12ef656-8c68-4632-9f6f-a4aca4b2fffd"
      },
      "source": [
        "## Notebook Initialization"
      ]
    },
    {
      "cell_type": "code",
      "execution_count": null,
      "id": "263b2da2-a32b-48b5-b291-bb5a6c1682ec",
      "metadata": {
        "id": "263b2da2-a32b-48b5-b291-bb5a6c1682ec"
      },
      "outputs": [],
      "source": [
        "from tabulate import tabulate\n",
        "import pyodbc\n",
        "\n",
        "def executeQuery(query, hasResults = 'yes', close = 'yes'):\n",
        "   conn = pyodbc.connect(\"DRIVER={ODBC Driver 17 for SQL Server};server=92.204.135.191;UID=\" + userID + \";PWD=\" + password + \";database=CTrial;\");\n",
        "   conn\n",
        "   cursor = conn.cursor()\n",
        "   for q in query:\n",
        "      cursor.execute(q)\n",
        "   # if (hasResults == 'yes'):\n",
        "   result = cursor.fetchall()\n",
        "   field_names = [i[0] for i in cursor.description]\n",
        "   print(tabulate(result, headers=field_names, tablefmt='psql'))\n",
        "   #if (close == 'yes'):        # remember - closing will delete temporary tables\n",
        "   cursor.close()\n",
        "   conn.close()\n"
      ]
    },
    {
      "cell_type": "markdown",
      "id": "e828431e-14f8-4e9e-a973-316132e9b829",
      "metadata": {
        "id": "e828431e-14f8-4e9e-a973-316132e9b829"
      },
      "source": [
        "## Initial Product Row Count Analysis"
      ]
    },
    {
      "cell_type": "markdown",
      "id": "349dd96f-bd76-4398-b7c5-e5c2dcee8460",
      "metadata": {
        "id": "349dd96f-bd76-4398-b7c5-e5c2dcee8460"
      },
      "source": [
        "**EM Data has one product per row in the table EM_OPProducts**"
      ]
    },
    {
      "cell_type": "code",
      "execution_count": null,
      "id": "c3e5edda-fca0-4d17-a48d-22b9ca703452",
      "metadata": {
        "id": "c3e5edda-fca0-4d17-a48d-22b9ca703452",
        "outputId": "71c3b58b-6ca7-4d65-a39e-f4549a6c0f50"
      },
      "outputs": [
        {
          "name": "stdout",
          "output_type": "stream",
          "text": [
            "+-------------------+----------------+-----------+\n",
            "|   PYMT_PGM_YR_NUM | PAYMENT_TYPE   |   NumRows |\n",
            "|-------------------+----------------+-----------|\n",
            "|              2016 | General        |  14920281 |\n",
            "|              2017 | General        |  14312008 |\n",
            "|              2018 | General        |  13296766 |\n",
            "|              2019 | General        |  12520056 |\n",
            "|              2020 | General        |   6922208 |\n",
            "|              2021 | General        |  13563099 |\n",
            "|              2022 | General        |  15286759 |\n",
            "|              2016 | Research       |    500645 |\n",
            "|              2017 | Research       |    497771 |\n",
            "|              2018 | Research       |    455670 |\n",
            "|              2019 | Research       |    430928 |\n",
            "|              2020 | Research       |    413090 |\n",
            "|              2021 | Research       |    486507 |\n",
            "|              2022 | Research       |    585837 |\n",
            "+-------------------+----------------+-----------+\n"
          ]
        }
      ],
      "source": [
        "executeQuery([\"SELECT PYMT_PGM_YR_NUM, PAYMENT_TYPE, COUNT(1) AS NumRows from EM_OPProducts GROUP BY PYMT_PGM_YR_NUM, PAYMENT_TYPE\"]);"
      ]
    },
    {
      "cell_type": "markdown",
      "id": "b8e93831-44ab-4251-8947-aa1df18ace57",
      "metadata": {
        "id": "b8e93831-44ab-4251-8947-aa1df18ace57"
      },
      "source": [
        "<b>OPA public data has one payment with multiple products per row split into two tables based upon PAYMENT_TYPE<br>\n",
        "We have denormalized to one product per row into the tables OP_GeneralProducts and OP_ResearchProducts</b>"
      ]
    },
    {
      "cell_type": "code",
      "execution_count": null,
      "id": "4a50a159-5812-4b20-abe8-9096f29a24d6",
      "metadata": {
        "id": "4a50a159-5812-4b20-abe8-9096f29a24d6",
        "outputId": "006bf84a-766e-4a18-b546-fdac097772ae"
      },
      "outputs": [
        {
          "name": "stdout",
          "output_type": "stream",
          "text": [
            "+----------------+-----------+\n",
            "|   Program_Year |   NumRows |\n",
            "|----------------+-----------|\n",
            "|           2016 |  15318303 |\n",
            "|           2017 |  14675825 |\n",
            "|           2018 |  13644942 |\n",
            "|           2019 |  12827297 |\n",
            "|           2020 |   7076265 |\n",
            "|           2021 |  13791260 |\n",
            "|           2022 |  15492732 |\n",
            "+----------------+-----------+\n"
          ]
        }
      ],
      "source": [
        "executeQuery([\"SELECT Program_Year, COUNT(1) AS NumRows FROM OP_GENERAL g INNER JOIN OP_GeneralProducts p ON p.Record_ID = g.Record_ID \\\n",
        "GROUP BY Program_Year ORDER BY Program_Year\"])"
      ]
    },
    {
      "cell_type": "code",
      "execution_count": null,
      "id": "4248f31b-8cf3-4cfc-8fd7-d0c5ce3b2231",
      "metadata": {
        "id": "4248f31b-8cf3-4cfc-8fd7-d0c5ce3b2231",
        "outputId": "8f6cc7bd-00dc-4fba-eef7-35ac873eff57"
      },
      "outputs": [
        {
          "name": "stdout",
          "output_type": "stream",
          "text": [
            "+----------------+-----------+\n",
            "|   Program_Year |   NumRows |\n",
            "|----------------+-----------|\n",
            "|           2016 |    772824 |\n",
            "|           2017 |    759411 |\n",
            "|           2018 |    696036 |\n",
            "|           2019 |    598098 |\n",
            "|           2020 |    589042 |\n",
            "|           2021 |    664399 |\n",
            "|           2022 |    901131 |\n",
            "+----------------+-----------+\n"
          ]
        }
      ],
      "source": [
        "executeQuery([\"SELECT Program_Year, COUNT(1) AS NumRows FROM OP_Research r INNER JOIN OP_ResearchProducts p ON p.Record_ID = r.Record_ID \\\n",
        "GROUP BY Program_Year ORDER BY Program_Year\"])"
      ]
    },
    {
      "cell_type": "markdown",
      "id": "73f2f4d9-09c8-4435-83e4-6a60976ca8ef",
      "metadata": {
        "id": "73f2f4d9-09c8-4435-83e4-6a60976ca8ef"
      },
      "source": [
        "<div class=\"alert alert-block alert-info\">\n",
        "    <b>EM has FEWER products per year than the published OPA data</b>\n",
        "</div>"
      ]
    },
    {
      "cell_type": "markdown",
      "id": "dcdf0c5c-72f4-41bc-90f4-d1c612510758",
      "metadata": {
        "id": "dcdf0c5c-72f4-41bc-90f4-d1c612510758"
      },
      "source": [
        "## Initial Payment Row Count & Subset Analysis"
      ]
    },
    {
      "cell_type": "code",
      "execution_count": null,
      "id": "ca470d6b-5250-4b76-971a-9452c19a7acf",
      "metadata": {
        "id": "ca470d6b-5250-4b76-971a-9452c19a7acf",
        "outputId": "72a922de-ce90-4511-8101-8c3310d3dfb6"
      },
      "outputs": [
        {
          "name": "stdout",
          "output_type": "stream",
          "text": [
            "+-------------------+-----------+\n",
            "|   PYMT_PGM_YR_NUM |   NumRows |\n",
            "|-------------------+-----------|\n",
            "|              2016 |  11271671 |\n",
            "|              2017 |  11060382 |\n",
            "|              2018 |  10534443 |\n",
            "|              2019 |  10171195 |\n",
            "|              2020 |   5810607 |\n",
            "|              2021 |  11231472 |\n",
            "|              2022 |  12798263 |\n",
            "+-------------------+-----------+\n"
          ]
        }
      ],
      "source": [
        "# This block takes about 6 minutes to run\n",
        "executeQuery([\"SELECT DISTINCT PYMT_PGM_YR_NUM, OPEN_PYMTS_SYS_ID INTO #EM_OPA_SysIDs from EM_OPProducts\", \\\n",
        "              \"SELECT PYMT_PGM_YR_NUM, COUNT(1) AS NumRows FROM #EM_OPA_SysIDs GROUP BY PYMT_PGM_YR_NUM\"])"
      ]
    },
    {
      "cell_type": "code",
      "execution_count": null,
      "id": "a2968cfa-ce1a-4bb3-a87c-b18a4fa972e7",
      "metadata": {
        "id": "a2968cfa-ce1a-4bb3-a87c-b18a4fa972e7",
        "outputId": "1a170abd-c9bc-4963-8515-d5c233d27a25"
      },
      "outputs": [
        {
          "name": "stdout",
          "output_type": "stream",
          "text": [
            "+----------------+-----------+\n",
            "|   Program_Year |   NumRows |\n",
            "|----------------+-----------|\n",
            "|           2016 |  11713844 |\n",
            "|           2017 |  11423318 |\n",
            "|           2018 |  10936295 |\n",
            "|           2019 |  10551081 |\n",
            "|           2020 |   5836625 |\n",
            "|           2021 |  11512430 |\n",
            "|           2022 |  13148520 |\n",
            "+----------------+-----------+\n",
            "+----------------+-----------+\n",
            "|   Program_Year |   NumRows |\n",
            "|----------------+-----------|\n",
            "|           2016 |    880282 |\n",
            "|           2017 |    819771 |\n",
            "|           2018 |    793981 |\n",
            "|           2019 |    712806 |\n",
            "|           2020 |    669348 |\n",
            "|           2021 |    708938 |\n",
            "|           2022 |    953320 |\n",
            "+----------------+-----------+\n"
          ]
        }
      ],
      "source": [
        "executeQuery([\"SELECT Program_Year, COUNT(1) AS NumRows FROM OP_General GROUP BY Program_Year ORDER BY Program_Year\"])\n",
        "executeQuery([\"SELECT Program_Year, COUNT(1) AS NumRows FROM OP_Research GROUP BY Program_Year ORDER BY Program_Year\"])"
      ]
    },
    {
      "cell_type": "markdown",
      "id": "2c04d4e1-d59e-43d0-8810-be12b8dee0bf",
      "metadata": {
        "id": "2c04d4e1-d59e-43d0-8810-be12b8dee0bf"
      },
      "source": [
        "<div class=\"alert alert-block alert-info\">\n",
        "    <b>EM has a FEWER OPA Payments per year than the published OPA data</b>\n",
        "</div>"
      ]
    },
    {
      "cell_type": "code",
      "execution_count": null,
      "id": "5d526b5a-e0d4-4f28-8a90-5a24add1bce8",
      "metadata": {
        "id": "5d526b5a-e0d4-4f28-8a90-5a24add1bce8",
        "outputId": "9b29e70d-eaf7-428c-d139-46930234a9a8"
      },
      "outputs": [
        {
          "name": "stdout",
          "output_type": "stream",
          "text": [
            "+-------------------+-----------------+\n",
            "|   PYMT_PGM_YR_NUM |   UnmatchedRows |\n",
            "|-------------------+-----------------|\n",
            "|              2016 |               1 |\n",
            "|              2017 |            4453 |\n",
            "|              2018 |            1015 |\n",
            "|              2019 |            1215 |\n",
            "|              2020 |            1349 |\n",
            "|              2021 |           42476 |\n",
            "|              2022 |          100392 |\n",
            "+-------------------+-----------------+\n"
          ]
        }
      ],
      "source": [
        "executeQuery([\"SELECT PYMT_PGM_YR_NUM, COUNT(1) UnmatchedRows FROM EM_OPProducts e WHERE PAYMENT_TYPE = 'General' AND \\\n",
        "              NOT EXISTS(SELECT 1 FROM OP_General WHERE Record_ID = e.OPEN_PYMTS_SYS_ID) GROUP BY PYMT_PGM_YR_NUM\"])"
      ]
    },
    {
      "cell_type": "code",
      "execution_count": null,
      "id": "23f28f0e-a842-48f4-aca3-08a1750e7d2e",
      "metadata": {
        "id": "23f28f0e-a842-48f4-aca3-08a1750e7d2e",
        "outputId": "86e38546-b157-4713-cad1-72bdf97dd19b"
      },
      "outputs": [
        {
          "name": "stdout",
          "output_type": "stream",
          "text": [
            "+-------------------+-----------------+\n",
            "|   PYMT_PGM_YR_NUM |   UnmatchedRows |\n",
            "|-------------------+-----------------|\n",
            "|              2016 |               1 |\n",
            "|              2017 |             122 |\n",
            "|              2019 |            5477 |\n",
            "|              2020 |           14754 |\n",
            "|              2021 |           12478 |\n",
            "|              2022 |           16729 |\n",
            "+-------------------+-----------------+\n"
          ]
        }
      ],
      "source": [
        "executeQuery([\"SELECT PYMT_PGM_YR_NUM, COUNT(1) UnmatchedRows FROM EM_OPProducts e WHERE PAYMENT_TYPE = 'Research' AND \\\n",
        "              NOT EXISTS(SELECT 1 FROM OP_Research WHERE Record_ID = e.OPEN_PYMTS_SYS_ID) GROUP BY PYMT_PGM_YR_NUM\"])"
      ]
    },
    {
      "cell_type": "markdown",
      "id": "e82c52c8-60fa-45b5-8630-b70de6678f6d",
      "metadata": {
        "id": "e82c52c8-60fa-45b5-8630-b70de6678f6d"
      },
      "source": [
        "<div class=\"alert alert-block alert-info\">\n",
        "    <b>EM has records of OPA Payments that DO NOT EXIST in the published OPA data</b>\n",
        "</div>"
      ]
    },
    {
      "cell_type": "code",
      "execution_count": null,
      "id": "5fc82b26-e545-489e-a21f-8b919d8b6a74",
      "metadata": {
        "id": "5fc82b26-e545-489e-a21f-8b919d8b6a74"
      },
      "outputs": [],
      "source": []
    }
  ],
  "metadata": {
    "kernelspec": {
      "display_name": "Python 3 (ipykernel)",
      "language": "python",
      "name": "python3"
    },
    "language_info": {
      "codemirror_mode": {
        "name": "ipython",
        "version": 3
      },
      "file_extension": ".py",
      "mimetype": "text/x-python",
      "name": "python",
      "nbconvert_exporter": "python",
      "pygments_lexer": "ipython3",
      "version": "3.11.5"
    },
    "colab": {
      "provenance": [],
      "include_colab_link": true
    }
  },
  "nbformat": 4,
  "nbformat_minor": 5
}