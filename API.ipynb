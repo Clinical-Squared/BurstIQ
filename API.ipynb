{
  "nbformat": 4,
  "nbformat_minor": 0,
  "metadata": {
    "colab": {
      "provenance": [],
      "authorship_tag": "ABX9TyMxIoC/b3mSpBQTxylKTA5g",
      "include_colab_link": true
    },
    "kernelspec": {
      "name": "python3",
      "display_name": "Python 3"
    },
    "language_info": {
      "name": "python"
    }
  },
  "cells": [
    {
      "cell_type": "markdown",
      "metadata": {
        "id": "view-in-github",
        "colab_type": "text"
      },
      "source": [
        "<a href=\"https://colab.research.google.com/github/MWaser/BurstIQ/blob/main/API.ipynb\" target=\"_parent\"><img src=\"https://colab.research.google.com/assets/colab-badge.svg\" alt=\"Open In Colab\"/></a>"
      ]
    },
    {
      "cell_type": "markdown",
      "source": [
        "# 1. Upgrade Python Version if necessary"
      ],
      "metadata": {
        "id": "oN-wtkql7G8r"
      }
    },
    {
      "cell_type": "markdown",
      "source": [
        "The BurstIQ API requires Python 3.11 or greater.  Check the version to see if upgrading is necessary."
      ],
      "metadata": {
        "id": "wl7agr_x3tKC"
      }
    },
    {
      "cell_type": "code",
      "execution_count": null,
      "metadata": {
        "colab": {
          "base_uri": "https://localhost:8080/"
        },
        "id": "j-qCNcwc3gXw",
        "outputId": "734322d7-67a3-4747-962d-f10df4725055"
      },
      "outputs": [
        {
          "output_type": "stream",
          "name": "stdout",
          "text": [
            "Python 3.10.12\n"
          ]
        }
      ],
      "source": [
        "!python --version"
      ]
    },
    {
      "cell_type": "markdown",
      "source": [
        "If upgrading is necessary, run the next box.\n",
        "Do not worry about the virtual machine warnings -- a notebook is already a virtual machine."
      ],
      "metadata": {
        "id": "q4j25rUa4FAn"
      }
    },
    {
      "cell_type": "code",
      "source": [
        "!sudo apt-get update -y\n",
        "!sudo apt-get install python3.11\n",
        "\n",
        "!sudo update-alternatives --install /usr/bin/python3 python3 /usr/bin/python3.7 1\n",
        "!sudo update-alternatives --install /usr/bin/python3 python3 /usr/bin/python3.11 2\n",
        "\n",
        "!python --version\n",
        "\n",
        "!sudo apt-get install python3-pip"
      ],
      "metadata": {
        "colab": {
          "base_uri": "https://localhost:8080/"
        },
        "id": "1NqP8gSJ4R1o",
        "outputId": "8859ec7e-be08-4788-e39e-d582b5a349c5"
      },
      "execution_count": null,
      "outputs": [
        {
          "output_type": "stream",
          "name": "stdout",
          "text": [
            "Hit:1 http://archive.ubuntu.com/ubuntu jammy InRelease\n",
            "Get:2 http://archive.ubuntu.com/ubuntu jammy-updates InRelease [119 kB]\n",
            "Get:3 http://security.ubuntu.com/ubuntu jammy-security InRelease [110 kB]\n",
            "Get:4 https://cloud.r-project.org/bin/linux/ubuntu jammy-cran40/ InRelease [3,626 B]\n",
            "Hit:5 https://developer.download.nvidia.com/compute/cuda/repos/ubuntu2204/x86_64  InRelease\n",
            "Hit:6 http://archive.ubuntu.com/ubuntu jammy-backports InRelease\n",
            "Hit:7 https://ppa.launchpadcontent.net/c2d4u.team/c2d4u4.0+/ubuntu jammy InRelease\n",
            "Hit:8 https://ppa.launchpadcontent.net/deadsnakes/ppa/ubuntu jammy InRelease\n",
            "Hit:9 https://ppa.launchpadcontent.net/graphics-drivers/ppa/ubuntu jammy InRelease\n",
            "Hit:10 https://ppa.launchpadcontent.net/ubuntugis/ppa/ubuntu jammy InRelease\n",
            "Get:11 http://archive.ubuntu.com/ubuntu jammy-updates/universe amd64 Packages [1,307 kB]\n",
            "Get:12 http://archive.ubuntu.com/ubuntu jammy-updates/restricted amd64 Packages [1,611 kB]\n",
            "Get:13 http://archive.ubuntu.com/ubuntu jammy-updates/main amd64 Packages [1,606 kB]\n",
            "Get:14 http://security.ubuntu.com/ubuntu jammy-security/main amd64 Packages [1,332 kB]\n",
            "Get:15 http://security.ubuntu.com/ubuntu jammy-security/restricted amd64 Packages [1,582 kB]\n",
            "Get:16 http://security.ubuntu.com/ubuntu jammy-security/universe amd64 Packages [1,047 kB]\n",
            "Fetched 8,718 kB in 5s (1,614 kB/s)\n",
            "Reading package lists... Done\n",
            "Reading package lists... Done\n",
            "Building dependency tree... Done\n",
            "Reading state information... Done\n",
            "The following additional packages will be installed:\n",
            "  libpython3.11-minimal libpython3.11-stdlib mailcap mime-support\n",
            "  python3.11-minimal\n",
            "Suggested packages:\n",
            "  python3.11-venv binfmt-support\n",
            "The following NEW packages will be installed:\n",
            "  libpython3.11-minimal libpython3.11-stdlib mailcap mime-support python3.11\n",
            "  python3.11-minimal\n",
            "0 upgraded, 6 newly installed, 0 to remove and 24 not upgraded.\n",
            "Need to get 5,813 kB of archives.\n",
            "After this operation, 21.6 MB of additional disk space will be used.\n",
            "Get:1 http://archive.ubuntu.com/ubuntu jammy/main amd64 mailcap all 3.70+nmu1ubuntu1 [23.8 kB]\n",
            "Get:2 http://archive.ubuntu.com/ubuntu jammy/main amd64 mime-support all 3.66 [3,696 B]\n",
            "Get:3 https://ppa.launchpadcontent.net/deadsnakes/ppa/ubuntu jammy/main amd64 libpython3.11-minimal amd64 3.11.7-1+jammy1 [882 kB]\n",
            "Get:4 https://ppa.launchpadcontent.net/deadsnakes/ppa/ubuntu jammy/main amd64 python3.11-minimal amd64 3.11.7-1+jammy1 [2,353 kB]\n",
            "Get:5 https://ppa.launchpadcontent.net/deadsnakes/ppa/ubuntu jammy/main amd64 libpython3.11-stdlib amd64 3.11.7-1+jammy1 [1,920 kB]\n",
            "Get:6 https://ppa.launchpadcontent.net/deadsnakes/ppa/ubuntu jammy/main amd64 python3.11 amd64 3.11.7-1+jammy1 [629 kB]\n",
            "Fetched 5,813 kB in 1s (4,225 kB/s)\n",
            "debconf: unable to initialize frontend: Dialog\n",
            "debconf: (No usable dialog-like program is installed, so the dialog based frontend cannot be used. at /usr/share/perl5/Debconf/FrontEnd/Dialog.pm line 78, <> line 6.)\n",
            "debconf: falling back to frontend: Readline\n",
            "debconf: unable to initialize frontend: Readline\n",
            "debconf: (This frontend requires a controlling tty.)\n",
            "debconf: falling back to frontend: Teletype\n",
            "dpkg-preconfigure: unable to re-open stdin: \n",
            "Selecting previously unselected package libpython3.11-minimal:amd64.\n",
            "(Reading database ... 121654 files and directories currently installed.)\n",
            "Preparing to unpack .../0-libpython3.11-minimal_3.11.7-1+jammy1_amd64.deb ...\n",
            "Unpacking libpython3.11-minimal:amd64 (3.11.7-1+jammy1) ...\n",
            "Selecting previously unselected package python3.11-minimal.\n",
            "Preparing to unpack .../1-python3.11-minimal_3.11.7-1+jammy1_amd64.deb ...\n",
            "Unpacking python3.11-minimal (3.11.7-1+jammy1) ...\n",
            "Selecting previously unselected package mailcap.\n",
            "Preparing to unpack .../2-mailcap_3.70+nmu1ubuntu1_all.deb ...\n",
            "Unpacking mailcap (3.70+nmu1ubuntu1) ...\n",
            "Selecting previously unselected package mime-support.\n",
            "Preparing to unpack .../3-mime-support_3.66_all.deb ...\n",
            "Unpacking mime-support (3.66) ...\n",
            "Selecting previously unselected package libpython3.11-stdlib:amd64.\n",
            "Preparing to unpack .../4-libpython3.11-stdlib_3.11.7-1+jammy1_amd64.deb ...\n",
            "Unpacking libpython3.11-stdlib:amd64 (3.11.7-1+jammy1) ...\n",
            "Selecting previously unselected package python3.11.\n",
            "Preparing to unpack .../5-python3.11_3.11.7-1+jammy1_amd64.deb ...\n",
            "Unpacking python3.11 (3.11.7-1+jammy1) ...\n",
            "Setting up libpython3.11-minimal:amd64 (3.11.7-1+jammy1) ...\n",
            "Setting up mailcap (3.70+nmu1ubuntu1) ...\n",
            "Setting up python3.11-minimal (3.11.7-1+jammy1) ...\n",
            "Setting up mime-support (3.66) ...\n",
            "Setting up libpython3.11-stdlib:amd64 (3.11.7-1+jammy1) ...\n",
            "Setting up python3.11 (3.11.7-1+jammy1) ...\n",
            "Processing triggers for man-db (2.10.2-1) ...\n",
            "update-alternatives: error: alternative path /usr/bin/python3.7 doesn't exist\n",
            "update-alternatives: using /usr/bin/python3.11 to provide /usr/bin/python3 (python3) in auto mode\n",
            "Python 3.11.7\n",
            "Reading package lists... Done\n",
            "Building dependency tree... Done\n",
            "Reading state information... Done\n",
            "The following additional packages will be installed:\n",
            "  python3-setuptools python3-wheel\n",
            "Suggested packages:\n",
            "  python-setuptools-doc\n",
            "The following NEW packages will be installed:\n",
            "  python3-pip python3-setuptools python3-wheel\n",
            "0 upgraded, 3 newly installed, 0 to remove and 24 not upgraded.\n",
            "Need to get 1,677 kB of archives.\n",
            "After this operation, 8,967 kB of additional disk space will be used.\n",
            "Get:1 http://archive.ubuntu.com/ubuntu jammy-updates/main amd64 python3-setuptools all 59.6.0-1.2ubuntu0.22.04.1 [339 kB]\n",
            "Get:2 http://archive.ubuntu.com/ubuntu jammy-updates/universe amd64 python3-wheel all 0.37.1-2ubuntu0.22.04.1 [32.0 kB]\n",
            "Get:3 http://archive.ubuntu.com/ubuntu jammy-updates/universe amd64 python3-pip all 22.0.2+dfsg-1ubuntu0.4 [1,305 kB]\n",
            "Fetched 1,677 kB in 0s (4,824 kB/s)\n",
            "debconf: unable to initialize frontend: Dialog\n",
            "debconf: (No usable dialog-like program is installed, so the dialog based frontend cannot be used. at /usr/share/perl5/Debconf/FrontEnd/Dialog.pm line 78, <> line 3.)\n",
            "debconf: falling back to frontend: Readline\n",
            "debconf: unable to initialize frontend: Readline\n",
            "debconf: (This frontend requires a controlling tty.)\n",
            "debconf: falling back to frontend: Teletype\n",
            "dpkg-preconfigure: unable to re-open stdin: \n",
            "Selecting previously unselected package python3-setuptools.\n",
            "(Reading database ... 122357 files and directories currently installed.)\n",
            "Preparing to unpack .../python3-setuptools_59.6.0-1.2ubuntu0.22.04.1_all.deb ...\n",
            "Unpacking python3-setuptools (59.6.0-1.2ubuntu0.22.04.1) ...\n",
            "Selecting previously unselected package python3-wheel.\n",
            "Preparing to unpack .../python3-wheel_0.37.1-2ubuntu0.22.04.1_all.deb ...\n",
            "Unpacking python3-wheel (0.37.1-2ubuntu0.22.04.1) ...\n",
            "Selecting previously unselected package python3-pip.\n",
            "Preparing to unpack .../python3-pip_22.0.2+dfsg-1ubuntu0.4_all.deb ...\n",
            "Unpacking python3-pip (22.0.2+dfsg-1ubuntu0.4) ...\n",
            "Setting up python3-setuptools (59.6.0-1.2ubuntu0.22.04.1) ...\n",
            "Setting up python3-wheel (0.37.1-2ubuntu0.22.04.1) ...\n",
            "Setting up python3-pip (22.0.2+dfsg-1ubuntu0.4) ...\n",
            "Processing triggers for man-db (2.10.2-1) ...\n"
          ]
        }
      ]
    },
    {
      "cell_type": "markdown",
      "source": [
        "# 2. Install BurstIQ Command Line (cliq2)"
      ],
      "metadata": {
        "id": "h5AH1voO-x6r"
      }
    },
    {
      "cell_type": "markdown",
      "source": [
        "Grab Python Wheel Installation file from Github Repo"
      ],
      "metadata": {
        "id": "EakOIAvv_JO7"
      }
    },
    {
      "cell_type": "code",
      "source": [
        "!curl -H 'Accept: application/vnd.github.v3.raw' -O \\\n",
        "  -L https://api.github.com/repos/clinical-squared/BurstIQ/contents/cliq2-1.0.0-py3-none-any.whl"
      ],
      "metadata": {
        "id": "eYwxRk6EIpNe",
        "outputId": "5d313fd0-413e-425f-8661-07d6620749f1",
        "colab": {
          "base_uri": "https://localhost:8080/"
        }
      },
      "execution_count": 1,
      "outputs": [
        {
          "output_type": "stream",
          "name": "stdout",
          "text": [
            "  % Total    % Received % Xferd  Average Speed   Time    Time     Time  Current\n",
            "                                 Dload  Upload   Total   Spent    Left  Speed\n",
            "100 21896  100 21896    0     0  72917      0 --:--:-- --:--:-- --:--:-- 72986\n"
          ]
        }
      ]
    },
    {
      "cell_type": "markdown",
      "source": [
        "Install from Wheel file"
      ],
      "metadata": {
        "id": "cTgHz2U9JCFZ"
      }
    },
    {
      "cell_type": "code",
      "source": [
        "!pip3 install cliq2-1.0.0-py3-none-any.whl"
      ],
      "metadata": {
        "id": "vwuUFU_UJQD1",
        "outputId": "78b9fead-4034-4652-a11a-589accc71e6a",
        "colab": {
          "base_uri": "https://localhost:8080/"
        }
      },
      "execution_count": 2,
      "outputs": [
        {
          "output_type": "stream",
          "name": "stdout",
          "text": [
            "Processing ./cliq2-1.0.0-py3-none-any.whl\n",
            "Collecting setuptools>=67.8.0 (from cliq2==1.0.0)\n",
            "  Downloading setuptools-69.0.3-py3-none-any.whl (819 kB)\n",
            "\u001b[2K     \u001b[90m━━━━━━━━━━━━━━━━━━━━━━━━━━━━━━━━━━━━━━━━\u001b[0m \u001b[32m819.5/819.5 kB\u001b[0m \u001b[31m4.9 MB/s\u001b[0m eta \u001b[36m0:00:00\u001b[0m\n",
            "\u001b[?25hCollecting nose>=1.3.7 (from cliq2==1.0.0)\n",
            "  Downloading nose-1.3.7-py3-none-any.whl (154 kB)\n",
            "\u001b[2K     \u001b[90m━━━━━━━━━━━━━━━━━━━━━━━━━━━━━━━━━━━━━━━━\u001b[0m \u001b[32m154.7/154.7 kB\u001b[0m \u001b[31m6.4 MB/s\u001b[0m eta \u001b[36m0:00:00\u001b[0m\n",
            "\u001b[?25hRequirement already satisfied: requests>=2.31.0 in /usr/local/lib/python3.10/dist-packages (from cliq2==1.0.0) (2.31.0)\n",
            "Collecting requests-toolbelt>=1.0.0 (from cliq2==1.0.0)\n",
            "  Downloading requests_toolbelt-1.0.0-py2.py3-none-any.whl (54 kB)\n",
            "\u001b[2K     \u001b[90m━━━━━━━━━━━━━━━━━━━━━━━━━━━━━━━━━━━━━━━━\u001b[0m \u001b[32m54.5/54.5 kB\u001b[0m \u001b[31m3.9 MB/s\u001b[0m eta \u001b[36m0:00:00\u001b[0m\n",
            "\u001b[?25hCollecting clint>=0.5.1 (from cliq2==1.0.0)\n",
            "  Downloading clint-0.5.1.tar.gz (29 kB)\n",
            "  Preparing metadata (setup.py) ... \u001b[?25l\u001b[?25hdone\n",
            "Requirement already satisfied: pyyaml>=6.0.1 in /usr/local/lib/python3.10/dist-packages (from cliq2==1.0.0) (6.0.1)\n",
            "INFO: pip is looking at multiple versions of cliq2 to determine which version is compatible with other requirements. This could take a while.\n",
            "\u001b[31mERROR: Package 'cliq2' requires a different Python: 3.10.12 not in '>=3.11.0'\u001b[0m\u001b[31m\n",
            "\u001b[0m"
          ]
        }
      ]
    },
    {
      "cell_type": "markdown",
      "source": [
        "Verify that command line program is installed correctly"
      ],
      "metadata": {
        "id": "B2E8F1IyYkj0"
      }
    },
    {
      "cell_type": "code",
      "source": [
        "!cliq2 -h"
      ],
      "metadata": {
        "colab": {
          "base_uri": "https://localhost:8080/"
        },
        "id": "yK1_cswnbSdY",
        "outputId": "4d469872-14a3-4007-90ee-ca3c9f2d2081"
      },
      "execution_count": null,
      "outputs": [
        {
          "output_type": "stream",
          "name": "stdout",
          "text": [
            "usage: cliq2 [-h] [-p PROPS_FILE]\n",
            "             {version,drop_customer,drop_sdz,update_customer,predict,update_dict,import_dbschema,export_dbschema,truncate_chain,load,query,create_smart,execute_smart}\n",
            "             ...\n",
            "\n",
            "Command Line IQ (CLIQ) working with LifeGraph (aka GraphChain): Performs many of the admin-centric\n",
            "commands necessary to support/manage a customer and its SDZs.\n",
            "\n",
            "positional arguments:\n",
            "  {version,drop_customer,drop_sdz,update_customer,predict,update_dict,import_dbschema,export_dbschema,truncate_chain,load,query,create_smart,execute_smart}\n",
            "                        type \"<cmd> --help\" for help on specific command\n",
            "    version             version number\n",
            "    drop_customer       drop a customer by short name, BIQ_ADMIN only\n",
            "    drop_sdz            drop a customer's sdz by short name, BIQ_ADMIN only\n",
            "    update_customer     upserts a customer JSON configuration file, BIQ_ADMIN only\n",
            "    predict             uses a data file to predict the dictionary and mapping\n",
            "    update_dict         upserts a dictionary JSON configuration file\n",
            "    import_dbschema     upserts a dbschema file as an async job\n",
            "    export_dbschema     exports a dbschema file\n",
            "    truncate_chain      truncates a chain by name\n",
            "    load                loads data file as an async job\n",
            "    query               queries data with command line query or query from file; plus prints\n",
            "                        results to stdout or to a file\n",
            "    create_smart        create a smart contract from file\n",
            "    execute_smart       executes a smart contract\n",
            "\n",
            "options:\n",
            "  -h, --help            show this help message and exit\n",
            "  -p PROPS_FILE, --props PROPS_FILE\n",
            "                        filename of properties file; defaults to ./cliq2.yml\n",
            "\n",
            "Copyright (c) 2015-2024 BurstIQ, Inc - All Rights Reserved\n"
          ]
        }
      ]
    },
    {
      "cell_type": "markdown",
      "source": [
        "# 3. Build the Config file (cliq2.yml)"
      ],
      "metadata": {
        "id": "FYxj-9p3YbWj"
      }
    },
    {
      "cell_type": "markdown",
      "source": [
        "Documentation is at https://admin.burstiq.com/docs/pages/metadata_tools/cliq2/cliq2_desc.html#configuration\n",
        "\n",
        "Example cliq2.yml:\n",
        "> biq_admin:\n",
        ">>  username: burstiq.admin  \n",
        ">>  password: XXXXXXXXXXXXXXXXXX  \n",
        ">>  server: https://keycloak.app.burstiq.com/auth  \n",
        ">>  client_id: aaaaaaaaaaaa  \n",
        ">>  realm: bbbbbbbbbbbb\n",
        "\n",
        "> sdz_admin:\n",
        ">>  username: john.wayne  \n",
        ">>  password: XXXXXXXXXXXXXXXXXX  \n",
        ">>  server: https://keycloak.app.burstiq.com/auth  \n",
        ">>  client_id: burst  \n",
        ">>  realm: { customer_shortname }  \n",
        "\n",
        "> graphchain:\n",
        ">>  server: https://app.burstiq.com  \n",
        ">>  customer: { customer_shortname }  \n",
        ">>  sdz: { customer_sdz_name }  "
      ],
      "metadata": {
        "id": "zWU1GCgvE1Ts"
      }
    },
    {
      "cell_type": "markdown",
      "source": [
        "Make sure that there are secrets for username, password, customer_shortname and customer_sdz name"
      ],
      "metadata": {
        "id": "w6qNAwr8HI4T"
      }
    },
    {
      "cell_type": "code",
      "source": [
        "from google.colab import userdata\n",
        "userdata.get('username')"
      ],
      "metadata": {
        "id": "--dYRls0H79F",
        "outputId": "1cd8f62b-7c2b-495e-9211-bc3a6c318764",
        "colab": {
          "base_uri": "https://localhost:8080/",
          "height": 35
        }
      },
      "execution_count": null,
      "outputs": [
        {
          "output_type": "execute_result",
          "data": {
            "text/plain": [
              "'bob'"
            ],
            "application/vnd.google.colaboratory.intrinsic+json": {
              "type": "string"
            }
          },
          "metadata": {},
          "execution_count": 2
        }
      ]
    }
  ]
}