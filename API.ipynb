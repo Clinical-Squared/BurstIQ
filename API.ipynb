{
  "nbformat": 4,
  "nbformat_minor": 0,
  "metadata": {
    "colab": {
      "provenance": [],
      "authorship_tag": "ABX9TyNtQAx8zAOCvFDwR5V7sH79",
      "include_colab_link": true
    },
    "kernelspec": {
      "name": "python3",
      "display_name": "Python 3"
    },
    "language_info": {
      "name": "python"
    }
  },
  "cells": [
    {
      "cell_type": "markdown",
      "metadata": {
        "id": "view-in-github",
        "colab_type": "text"
      },
      "source": [
        "<a href=\"https://colab.research.google.com/github/MWaser/BurstIQ/blob/main/API.ipynb\" target=\"_parent\"><img src=\"https://colab.research.google.com/assets/colab-badge.svg\" alt=\"Open In Colab\"/></a>"
      ]
    },
    {
      "cell_type": "markdown",
      "source": [
        "# 1. Upgrade Python Version if necessary"
      ],
      "metadata": {
        "id": "oN-wtkql7G8r"
      }
    },
    {
      "cell_type": "markdown",
      "source": [
        "The BurstIQ API requires Python 3.11 or greater.  Check the version to see if upgrading is necessary."
      ],
      "metadata": {
        "id": "wl7agr_x3tKC"
      }
    },
    {
      "cell_type": "code",
      "execution_count": 2,
      "metadata": {
        "colab": {
          "base_uri": "https://localhost:8080/"
        },
        "id": "j-qCNcwc3gXw",
        "outputId": "b71c37c9-6a4a-49f7-c7b9-289233b37ca2"
      },
      "outputs": [
        {
          "output_type": "stream",
          "name": "stdout",
          "text": [
            "Python 3.10.12\n"
          ]
        }
      ],
      "source": [
        "!python --version"
      ]
    },
    {
      "cell_type": "markdown",
      "source": [
        "If upgrading is necessary, run the next box.\n",
        "Do not worry about the virtual machine warnings -- a notebook is already a virtual machine."
      ],
      "metadata": {
        "id": "q4j25rUa4FAn"
      }
    },
    {
      "cell_type": "code",
      "source": [
        "!sudo apt-get update -y\n",
        "!sudo apt-get install python3.11\n",
        "\n",
        "!sudo update-alternatives --install /usr/bin/python3 python3 /usr/bin/python3.7 1\n",
        "!sudo update-alternatives --install /usr/bin/python3 python3 /usr/bin/python3.11 2\n",
        "\n",
        "!python --version\n",
        "\n",
        "!sudo apt-get install python3-pip"
      ],
      "metadata": {
        "colab": {
          "base_uri": "https://localhost:8080/"
        },
        "id": "1NqP8gSJ4R1o",
        "outputId": "03c60375-6be6-4299-9ee8-9485db99233e"
      },
      "execution_count": 3,
      "outputs": [
        {
          "output_type": "stream",
          "name": "stdout",
          "text": [
            "\r0% [Working]\r            \rGet:1 https://cloud.r-project.org/bin/linux/ubuntu jammy-cran40/ InRelease [3,626 B]\n",
            "\r0% [Connecting to archive.ubuntu.com (91.189.91.82)] [Connecting to security.ub\r0% [Connecting to archive.ubuntu.com (91.189.91.82)] [Connecting to security.ub\r                                                                               \rHit:2 https://developer.download.nvidia.com/compute/cuda/repos/ubuntu2204/x86_64  InRelease\n",
            "Hit:3 http://archive.ubuntu.com/ubuntu jammy InRelease\n",
            "Get:4 http://archive.ubuntu.com/ubuntu jammy-updates InRelease [119 kB]\n",
            "Get:5 http://security.ubuntu.com/ubuntu jammy-security InRelease [110 kB]\n",
            "Hit:6 http://archive.ubuntu.com/ubuntu jammy-backports InRelease\n",
            "Get:7 http://archive.ubuntu.com/ubuntu jammy-updates/universe amd64 Packages [1,309 kB]\n",
            "Get:8 https://ppa.launchpadcontent.net/c2d4u.team/c2d4u4.0+/ubuntu jammy InRelease [18.1 kB]\n",
            "Get:9 http://archive.ubuntu.com/ubuntu jammy-updates/main amd64 Packages [1,617 kB]\n",
            "Hit:10 https://ppa.launchpadcontent.net/deadsnakes/ppa/ubuntu jammy InRelease\n",
            "Hit:11 https://ppa.launchpadcontent.net/graphics-drivers/ppa/ubuntu jammy InRelease\n",
            "Hit:12 https://ppa.launchpadcontent.net/ubuntugis/ppa/ubuntu jammy InRelease\n",
            "Get:13 https://ppa.launchpadcontent.net/c2d4u.team/c2d4u4.0+/ubuntu jammy/main Sources [2,263 kB]\n",
            "Get:14 https://ppa.launchpadcontent.net/c2d4u.team/c2d4u4.0+/ubuntu jammy/main amd64 Packages [1,161 kB]\n",
            "Fetched 6,601 kB in 2s (2,655 kB/s)\n",
            "Reading package lists... Done\n",
            "Reading package lists... Done\n",
            "Building dependency tree... Done\n",
            "Reading state information... Done\n",
            "The following additional packages will be installed:\n",
            "  libpython3.11-minimal libpython3.11-stdlib mailcap mime-support\n",
            "  python3.11-minimal\n",
            "Suggested packages:\n",
            "  python3.11-venv binfmt-support\n",
            "The following NEW packages will be installed:\n",
            "  libpython3.11-minimal libpython3.11-stdlib mailcap mime-support python3.11\n",
            "  python3.11-minimal\n",
            "0 upgraded, 6 newly installed, 0 to remove and 25 not upgraded.\n",
            "Need to get 5,813 kB of archives.\n",
            "After this operation, 21.6 MB of additional disk space will be used.\n",
            "Get:1 http://archive.ubuntu.com/ubuntu jammy/main amd64 mailcap all 3.70+nmu1ubuntu1 [23.8 kB]\n",
            "Get:2 http://archive.ubuntu.com/ubuntu jammy/main amd64 mime-support all 3.66 [3,696 B]\n",
            "Get:3 https://ppa.launchpadcontent.net/deadsnakes/ppa/ubuntu jammy/main amd64 libpython3.11-minimal amd64 3.11.7-1+jammy1 [882 kB]\n",
            "Get:4 https://ppa.launchpadcontent.net/deadsnakes/ppa/ubuntu jammy/main amd64 python3.11-minimal amd64 3.11.7-1+jammy1 [2,353 kB]\n",
            "Get:5 https://ppa.launchpadcontent.net/deadsnakes/ppa/ubuntu jammy/main amd64 libpython3.11-stdlib amd64 3.11.7-1+jammy1 [1,920 kB]\n",
            "Get:6 https://ppa.launchpadcontent.net/deadsnakes/ppa/ubuntu jammy/main amd64 python3.11 amd64 3.11.7-1+jammy1 [629 kB]\n",
            "Fetched 5,813 kB in 2s (3,333 kB/s)\n",
            "debconf: unable to initialize frontend: Dialog\n",
            "debconf: (No usable dialog-like program is installed, so the dialog based frontend cannot be used. at /usr/share/perl5/Debconf/FrontEnd/Dialog.pm line 78, <> line 6.)\n",
            "debconf: falling back to frontend: Readline\n",
            "debconf: unable to initialize frontend: Readline\n",
            "debconf: (This frontend requires a controlling tty.)\n",
            "debconf: falling back to frontend: Teletype\n",
            "dpkg-preconfigure: unable to re-open stdin: \n",
            "Selecting previously unselected package libpython3.11-minimal:amd64.\n",
            "(Reading database ... 121654 files and directories currently installed.)\n",
            "Preparing to unpack .../0-libpython3.11-minimal_3.11.7-1+jammy1_amd64.deb ...\n",
            "Unpacking libpython3.11-minimal:amd64 (3.11.7-1+jammy1) ...\n",
            "Selecting previously unselected package python3.11-minimal.\n",
            "Preparing to unpack .../1-python3.11-minimal_3.11.7-1+jammy1_amd64.deb ...\n",
            "Unpacking python3.11-minimal (3.11.7-1+jammy1) ...\n",
            "Selecting previously unselected package mailcap.\n",
            "Preparing to unpack .../2-mailcap_3.70+nmu1ubuntu1_all.deb ...\n",
            "Unpacking mailcap (3.70+nmu1ubuntu1) ...\n",
            "Selecting previously unselected package mime-support.\n",
            "Preparing to unpack .../3-mime-support_3.66_all.deb ...\n",
            "Unpacking mime-support (3.66) ...\n",
            "Selecting previously unselected package libpython3.11-stdlib:amd64.\n",
            "Preparing to unpack .../4-libpython3.11-stdlib_3.11.7-1+jammy1_amd64.deb ...\n",
            "Unpacking libpython3.11-stdlib:amd64 (3.11.7-1+jammy1) ...\n",
            "Selecting previously unselected package python3.11.\n",
            "Preparing to unpack .../5-python3.11_3.11.7-1+jammy1_amd64.deb ...\n",
            "Unpacking python3.11 (3.11.7-1+jammy1) ...\n",
            "Setting up libpython3.11-minimal:amd64 (3.11.7-1+jammy1) ...\n",
            "Setting up mailcap (3.70+nmu1ubuntu1) ...\n",
            "Setting up python3.11-minimal (3.11.7-1+jammy1) ...\n",
            "Setting up mime-support (3.66) ...\n",
            "Setting up libpython3.11-stdlib:amd64 (3.11.7-1+jammy1) ...\n",
            "Setting up python3.11 (3.11.7-1+jammy1) ...\n",
            "Processing triggers for man-db (2.10.2-1) ...\n",
            "update-alternatives: error: alternative path /usr/bin/python3.7 doesn't exist\n",
            "update-alternatives: using /usr/bin/python3.11 to provide /usr/bin/python3 (python3) in auto mode\n",
            "Python 3.11.7\n",
            "Reading package lists... Done\n",
            "Building dependency tree... Done\n",
            "Reading state information... Done\n",
            "The following additional packages will be installed:\n",
            "  python3-setuptools python3-wheel\n",
            "Suggested packages:\n",
            "  python-setuptools-doc\n",
            "The following NEW packages will be installed:\n",
            "  python3-pip python3-setuptools python3-wheel\n",
            "0 upgraded, 3 newly installed, 0 to remove and 25 not upgraded.\n",
            "Need to get 1,677 kB of archives.\n",
            "After this operation, 8,967 kB of additional disk space will be used.\n",
            "Get:1 http://archive.ubuntu.com/ubuntu jammy-updates/main amd64 python3-setuptools all 59.6.0-1.2ubuntu0.22.04.1 [339 kB]\n",
            "Get:2 http://archive.ubuntu.com/ubuntu jammy-updates/universe amd64 python3-wheel all 0.37.1-2ubuntu0.22.04.1 [32.0 kB]\n",
            "Get:3 http://archive.ubuntu.com/ubuntu jammy-updates/universe amd64 python3-pip all 22.0.2+dfsg-1ubuntu0.4 [1,305 kB]\n",
            "Fetched 1,677 kB in 1s (2,476 kB/s)\n",
            "debconf: unable to initialize frontend: Dialog\n",
            "debconf: (No usable dialog-like program is installed, so the dialog based frontend cannot be used. at /usr/share/perl5/Debconf/FrontEnd/Dialog.pm line 78, <> line 3.)\n",
            "debconf: falling back to frontend: Readline\n",
            "debconf: unable to initialize frontend: Readline\n",
            "debconf: (This frontend requires a controlling tty.)\n",
            "debconf: falling back to frontend: Teletype\n",
            "dpkg-preconfigure: unable to re-open stdin: \n",
            "Selecting previously unselected package python3-setuptools.\n",
            "(Reading database ... 122357 files and directories currently installed.)\n",
            "Preparing to unpack .../python3-setuptools_59.6.0-1.2ubuntu0.22.04.1_all.deb ...\n",
            "Unpacking python3-setuptools (59.6.0-1.2ubuntu0.22.04.1) ...\n",
            "Selecting previously unselected package python3-wheel.\n",
            "Preparing to unpack .../python3-wheel_0.37.1-2ubuntu0.22.04.1_all.deb ...\n",
            "Unpacking python3-wheel (0.37.1-2ubuntu0.22.04.1) ...\n",
            "Selecting previously unselected package python3-pip.\n",
            "Preparing to unpack .../python3-pip_22.0.2+dfsg-1ubuntu0.4_all.deb ...\n",
            "Unpacking python3-pip (22.0.2+dfsg-1ubuntu0.4) ...\n",
            "Setting up python3-setuptools (59.6.0-1.2ubuntu0.22.04.1) ...\n",
            "Setting up python3-wheel (0.37.1-2ubuntu0.22.04.1) ...\n",
            "Setting up python3-pip (22.0.2+dfsg-1ubuntu0.4) ...\n",
            "Processing triggers for man-db (2.10.2-1) ...\n"
          ]
        }
      ]
    },
    {
      "cell_type": "markdown",
      "source": [
        "# 2. Install BurstIQ Command Line (cliq2)"
      ],
      "metadata": {
        "id": "h5AH1voO-x6r"
      }
    },
    {
      "cell_type": "markdown",
      "source": [
        "Grab Python Wheel Installation file from Github Repo"
      ],
      "metadata": {
        "id": "EakOIAvv_JO7"
      }
    },
    {
      "cell_type": "code",
      "source": [
        "!curl -H 'Accept: application/vnd.github.v3.raw' -O \\\n",
        "  -L https://api.github.com/repos/clinical-squared/BurstIQ/contents/cliq2-1.0.0-py3-none-any.whl"
      ],
      "metadata": {
        "id": "eYwxRk6EIpNe",
        "outputId": "ad97cffc-25d2-420a-e4f5-f7b9207d2954",
        "colab": {
          "base_uri": "https://localhost:8080/"
        }
      },
      "execution_count": 4,
      "outputs": [
        {
          "output_type": "stream",
          "name": "stdout",
          "text": [
            "  % Total    % Received % Xferd  Average Speed   Time    Time     Time  Current\n",
            "                                 Dload  Upload   Total   Spent    Left  Speed\n",
            "\r  0     0    0     0    0     0      0      0 --:--:-- --:--:-- --:--:--     0\r100 21896  100 21896    0     0  95892      0 --:--:-- --:--:-- --:--:-- 96035\n"
          ]
        }
      ]
    },
    {
      "cell_type": "markdown",
      "source": [
        "Install from Wheel file"
      ],
      "metadata": {
        "id": "cTgHz2U9JCFZ"
      }
    },
    {
      "cell_type": "code",
      "source": [
        "!pip3 install cliq2-1.0.0-py3-none-any.whl"
      ],
      "metadata": {
        "id": "vwuUFU_UJQD1",
        "outputId": "68cf8ac1-39d9-4465-dfd9-288ac2dafade",
        "colab": {
          "base_uri": "https://localhost:8080/",
          "height": 984
        }
      },
      "execution_count": 5,
      "outputs": [
        {
          "output_type": "stream",
          "name": "stdout",
          "text": [
            "Processing ./cliq2-1.0.0-py3-none-any.whl\n",
            "Collecting requests-toolbelt>=1.0.0\n",
            "  Downloading requests_toolbelt-1.0.0-py2.py3-none-any.whl (54 kB)\n",
            "\u001b[2K     \u001b[90m━━━━━━━━━━━━━━━━━━━━━━━━━━━━━━━━━━━━━━━━\u001b[0m \u001b[32m54.5/54.5 KB\u001b[0m \u001b[31m2.5 MB/s\u001b[0m eta \u001b[36m0:00:00\u001b[0m\n",
            "\u001b[?25hCollecting setuptools>=67.8.0\n",
            "  Downloading setuptools-69.0.3-py3-none-any.whl (819 kB)\n",
            "\u001b[2K     \u001b[90m━━━━━━━━━━━━━━━━━━━━━━━━━━━━━━━━━━━━━━━━\u001b[0m \u001b[32m819.5/819.5 KB\u001b[0m \u001b[31m26.7 MB/s\u001b[0m eta \u001b[36m0:00:00\u001b[0m\n",
            "\u001b[?25hCollecting clint>=0.5.1\n",
            "  Downloading clint-0.5.1.tar.gz (29 kB)\n",
            "  Preparing metadata (setup.py) ... \u001b[?25l\u001b[?25hdone\n",
            "Collecting requests>=2.31.0\n",
            "  Downloading requests-2.31.0-py3-none-any.whl (62 kB)\n",
            "\u001b[2K     \u001b[90m━━━━━━━━━━━━━━━━━━━━━━━━━━━━━━━━━━━━━━━━\u001b[0m \u001b[32m62.6/62.6 KB\u001b[0m \u001b[31m9.5 MB/s\u001b[0m eta \u001b[36m0:00:00\u001b[0m\n",
            "\u001b[?25hCollecting nose>=1.3.7\n",
            "  Downloading nose-1.3.7-py3-none-any.whl (154 kB)\n",
            "\u001b[2K     \u001b[90m━━━━━━━━━━━━━━━━━━━━━━━━━━━━━━━━━━━━━━━━\u001b[0m \u001b[32m154.7/154.7 KB\u001b[0m \u001b[31m21.7 MB/s\u001b[0m eta \u001b[36m0:00:00\u001b[0m\n",
            "\u001b[?25hCollecting pyyaml>=6.0.1\n",
            "  Downloading PyYAML-6.0.1-cp311-cp311-manylinux_2_17_x86_64.manylinux2014_x86_64.whl (757 kB)\n",
            "\u001b[2K     \u001b[90m━━━━━━━━━━━━━━━━━━━━━━━━━━━━━━━━━━━━━━━━\u001b[0m \u001b[32m757.7/757.7 KB\u001b[0m \u001b[31m69.9 MB/s\u001b[0m eta \u001b[36m0:00:00\u001b[0m\n",
            "\u001b[?25hCollecting args\n",
            "  Downloading args-0.1.0.tar.gz (3.0 kB)\n",
            "  Preparing metadata (setup.py) ... \u001b[?25l\u001b[?25hdone\n",
            "Collecting charset-normalizer<4,>=2\n",
            "  Downloading charset_normalizer-3.3.2-cp311-cp311-manylinux_2_17_x86_64.manylinux2014_x86_64.whl (140 kB)\n",
            "\u001b[2K     \u001b[90m━━━━━━━━━━━━━━━━━━━━━━━━━━━━━━━━━━━━━━━━\u001b[0m \u001b[32m140.3/140.3 KB\u001b[0m \u001b[31m18.3 MB/s\u001b[0m eta \u001b[36m0:00:00\u001b[0m\n",
            "\u001b[?25hCollecting certifi>=2017.4.17\n",
            "  Downloading certifi-2023.11.17-py3-none-any.whl (162 kB)\n",
            "\u001b[2K     \u001b[90m━━━━━━━━━━━━━━━━━━━━━━━━━━━━━━━━━━━━━━━━\u001b[0m \u001b[32m162.5/162.5 KB\u001b[0m \u001b[31m22.7 MB/s\u001b[0m eta \u001b[36m0:00:00\u001b[0m\n",
            "\u001b[?25hCollecting idna<4,>=2.5\n",
            "  Downloading idna-3.6-py3-none-any.whl (61 kB)\n",
            "\u001b[2K     \u001b[90m━━━━━━━━━━━━━━━━━━━━━━━━━━━━━━━━━━━━━━━━\u001b[0m \u001b[32m61.6/61.6 KB\u001b[0m \u001b[31m7.3 MB/s\u001b[0m eta \u001b[36m0:00:00\u001b[0m\n",
            "\u001b[?25hCollecting urllib3<3,>=1.21.1\n",
            "  Downloading urllib3-2.1.0-py3-none-any.whl (104 kB)\n",
            "\u001b[2K     \u001b[90m━━━━━━━━━━━━━━━━━━━━━━━━━━━━━━━━━━━━━━━━\u001b[0m \u001b[32m104.6/104.6 KB\u001b[0m \u001b[31m12.6 MB/s\u001b[0m eta \u001b[36m0:00:00\u001b[0m\n",
            "\u001b[?25hBuilding wheels for collected packages: clint, args\n",
            "  Building wheel for clint (setup.py) ... \u001b[?25l\u001b[?25hdone\n",
            "  Created wheel for clint: filename=clint-0.5.1-py3-none-any.whl size=34473 sha256=9f5a7574ea8a248d399d558a1db325f7c4f60d7acedafe8d5480a3dc6f3251ee\n",
            "  Stored in directory: /root/.cache/pip/wheels/a0/8d/f3/91dd49f9a8c6a57be7715f6d11347c49971dd292a53397ed79\n",
            "  Building wheel for args (setup.py) ... \u001b[?25l\u001b[?25hdone\n",
            "  Created wheel for args: filename=args-0.1.0-py3-none-any.whl size=3318 sha256=074255ffdb9b2bdf49960f3dcd74d6ef5483d60661a32ee35f27019b6deb66be\n",
            "  Stored in directory: /root/.cache/pip/wheels/15/a2/87/2541eb895fd18fd20cc7dd18b14d3b61bd9084cf4322abd15e\n",
            "Successfully built clint args\n",
            "Installing collected packages: nose, args, urllib3, setuptools, pyyaml, idna, clint, charset-normalizer, certifi, requests, requests-toolbelt, cliq2\n",
            "  Attempting uninstall: setuptools\n",
            "    Found existing installation: setuptools 59.6.0\n",
            "    Not uninstalling setuptools at /usr/lib/python3/dist-packages, outside environment /usr\n",
            "    Can't uninstall 'setuptools'. No files were found to uninstall.\n",
            "Successfully installed args-0.1.0 certifi-2023.11.17 charset-normalizer-3.3.2 clint-0.5.1 cliq2-1.0.0 idna-3.6 nose-1.3.7 pyyaml-6.0.1 requests-2.31.0 requests-toolbelt-1.0.0 setuptools-69.0.3 urllib3-2.1.0\n",
            "\u001b[33mWARNING: Running pip as the 'root' user can result in broken permissions and conflicting behaviour with the system package manager. It is recommended to use a virtual environment instead: https://pip.pypa.io/warnings/venv\u001b[0m\u001b[33m\n",
            "\u001b[0m"
          ]
        },
        {
          "output_type": "display_data",
          "data": {
            "application/vnd.colab-display-data+json": {
              "pip_warning": {
                "packages": [
                  "certifi"
                ]
              }
            }
          },
          "metadata": {}
        }
      ]
    },
    {
      "cell_type": "markdown",
      "source": [
        "Verify that command line program is installed correctly"
      ],
      "metadata": {
        "id": "B2E8F1IyYkj0"
      }
    },
    {
      "cell_type": "code",
      "source": [
        "!cliq2 -h"
      ],
      "metadata": {
        "colab": {
          "base_uri": "https://localhost:8080/"
        },
        "id": "yK1_cswnbSdY",
        "outputId": "3a9ec428-17df-42ac-dc71-2250e8654eb9"
      },
      "execution_count": 6,
      "outputs": [
        {
          "output_type": "stream",
          "name": "stdout",
          "text": [
            "usage: cliq2 [-h] [-p PROPS_FILE]\n",
            "             {version,drop_customer,drop_sdz,update_customer,predict,update_dict,import_dbschema,export_dbschema,truncate_chain,load,query,create_smart,execute_smart}\n",
            "             ...\n",
            "\n",
            "Command Line IQ (CLIQ) working with LifeGraph (aka GraphChain): Performs many of the admin-centric\n",
            "commands necessary to support/manage a customer and its SDZs.\n",
            "\n",
            "positional arguments:\n",
            "  {version,drop_customer,drop_sdz,update_customer,predict,update_dict,import_dbschema,export_dbschema,truncate_chain,load,query,create_smart,execute_smart}\n",
            "                        type \"<cmd> --help\" for help on specific command\n",
            "    version             version number\n",
            "    drop_customer       drop a customer by short name, BIQ_ADMIN only\n",
            "    drop_sdz            drop a customer's sdz by short name, BIQ_ADMIN only\n",
            "    update_customer     upserts a customer JSON configuration file, BIQ_ADMIN only\n",
            "    predict             uses a data file to predict the dictionary and mapping\n",
            "    update_dict         upserts a dictionary JSON configuration file\n",
            "    import_dbschema     upserts a dbschema file as an async job\n",
            "    export_dbschema     exports a dbschema file\n",
            "    truncate_chain      truncates a chain by name\n",
            "    load                loads data file as an async job\n",
            "    query               queries data with command line query or query from file; plus prints\n",
            "                        results to stdout or to a file\n",
            "    create_smart        create a smart contract from file\n",
            "    execute_smart       executes a smart contract\n",
            "\n",
            "options:\n",
            "  -h, --help            show this help message and exit\n",
            "  -p PROPS_FILE, --props PROPS_FILE\n",
            "                        filename of properties file; defaults to ./cliq2.yml\n",
            "\n",
            "Copyright (c) 2015-2024 BurstIQ, Inc - All Rights Reserved\n"
          ]
        }
      ]
    },
    {
      "cell_type": "code",
      "source": [
        "!cliq2 update_customer -h"
      ],
      "metadata": {
        "id": "GbP3NJLQ4K0E",
        "outputId": "886c1288-7656-4466-cda6-aed3a7fa1f73",
        "colab": {
          "base_uri": "https://localhost:8080/"
        }
      },
      "execution_count": 7,
      "outputs": [
        {
          "output_type": "stream",
          "name": "stdout",
          "text": [
            "usage: cliq2 update_customer [-h] --file FILE\n",
            "\n",
            "options:\n",
            "  -h, --help            show this help message and exit\n",
            "  --file FILE, -f FILE  the file path for the input\n"
          ]
        }
      ]
    },
    {
      "cell_type": "markdown",
      "source": [
        "# 3. Build the Config file (cliq2.yml)"
      ],
      "metadata": {
        "id": "FYxj-9p3YbWj"
      }
    },
    {
      "cell_type": "markdown",
      "source": [
        "Documentation is at https://admin.burstiq.com/docs/pages/metadata_tools/cliq2/cliq2_desc.html#configuration\n",
        "\n",
        "Example cliq2.yml:\n",
        "> biq_admin:\n",
        ">>  username: burstiq.admin  \n",
        ">>  password: XXXXXXXXXXXXXXXXXX  \n",
        ">>  server: https://keycloak.app.burstiq.com/auth  \n",
        ">>  client_id: aaaaaaaaaaaa  \n",
        ">>  realm: bbbbbbbbbbbb\n",
        "\n",
        "> sdz_admin:\n",
        ">>  username: john.wayne  \n",
        ">>  password: XXXXXXXXXXXXXXXXXX  \n",
        ">>  server: https://keycloak.app.burstiq.com/auth  \n",
        ">>  client_id: burst  \n",
        ">>  realm: { customer_shortname }  \n",
        "\n",
        "> graphchain:\n",
        ">>  server: https://app.burstiq.com  \n",
        ">>  customer: { customer_shortname }  \n",
        ">>  sdz: { customer_sdz_name }  "
      ],
      "metadata": {
        "id": "zWU1GCgvE1Ts"
      }
    },
    {
      "cell_type": "markdown",
      "source": [
        "Use secrets for username, password, customer_shortname and customer_sdz name (the key on the left menu) to generate cliq.yml <br />\n",
        "<b>IMPORTANT!!! </b> Be sure to delete the results of the following step before saving or all your secret information will be in the save file!"
      ],
      "metadata": {
        "id": "w6qNAwr8HI4T"
      }
    },
    {
      "cell_type": "code",
      "source": [
        "from google.colab import userdata\n",
        "yml = open(r\"cliq2.yml\", \"w\")\n",
        "yml.write(\"sdz_admin:\\n\");\n",
        "yml.writelines(\"   username: \" + userdata.get('username') + \"\\n\");\n",
        "yml.writelines(\"   password: \" + userdata.get('password') + \"\\n\");\n",
        "yml.writelines(\"   server: https://keycloak.app.burstiq.com/auth\\n\");\n",
        "yml.writelines(\"   client_id: burst\\n\");\n",
        "yml.writelines(\"   realm: \" + userdata.get('customer_shortname') + \"\\n\");\n",
        "yml.writelines(\"graphchain:\\n\");\n",
        "yml.writelines(\"   server: https://app.burstiq.com\\n\");\n",
        "yml.writelines(\"   customer: \" + userdata.get('customer_shortname') + \"\\n\");\n",
        "yml.writelines(\"   sdz: \" + userdata.get('customer_sdz_name') + \"\\n\");\n",
        "yml.close();\n",
        "\n",
        "!cat cliq2.yml\n"
      ],
      "metadata": {
        "id": "Qsq622-jDHQk"
      },
      "execution_count": null,
      "outputs": []
    }
  ]
}